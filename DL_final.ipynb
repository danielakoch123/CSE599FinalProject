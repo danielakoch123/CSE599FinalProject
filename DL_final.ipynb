{
 "cells": [
  {
   "cell_type": "code",
   "execution_count": 1,
   "metadata": {
    "colab": {
     "base_uri": "https://localhost:8080/"
    },
    "id": "ooz-XR8JXf2R",
    "outputId": "ff8d3274-6f23-4edf-808e-cd2c947d9b97"
   },
   "outputs": [
    {
     "name": "stdout",
     "output_type": "stream",
     "text": [
      "Version 1.7.1\n",
      "CUDA enabled: True\n"
     ]
    }
   ],
   "source": [
    "import numpy as np\n",
    "\n",
    "import torch\n",
    "import torch.nn as nn\n",
    "import torch.nn.functional as F\n",
    "import torchvision\n",
    "from torchvision import transforms\n",
    "import matplotlib.pyplot as plt\n",
    "\n",
    "print('Version', torch.__version__) \n",
    "print('CUDA enabled:', torch.cuda.is_available())\n",
    "\n",
    "import os\n",
    "import pickle\n",
    "import time\n",
    "# Running this should then print out:\n",
    "# Version 1.7.0+cu101 (or something like this)\n",
    "# CUDA enabled: True"
   ]
  },
  {
   "cell_type": "markdown",
   "metadata": {
    "id": "ZmyRC-UUG5r9"
   },
   "source": [
    "## Access the dataset "
   ]
  },
  {
   "cell_type": "code",
   "execution_count": 2,
   "metadata": {
    "colab": {
     "base_uri": "https://localhost:8080/"
    },
    "id": "L9hhBEXYGpfX",
    "outputId": "3cdb62f2-c0ad-43ff-d87a-fc89512fce96"
   },
   "outputs": [],
   "source": [
    "#For colab version\n",
    "'''\n",
    "from google.colab import drive\n",
    "drive.mount('/content/drive/')\n",
    "root = \"/content/drive/MyDrive/AskaData/AskaData1/aska3bN/cell_small/\"\n",
    "'''\n",
    "\n",
    "#For desktop version \n",
    "root = os.getcwd()"
   ]
  },
  {
   "cell_type": "code",
   "execution_count": 3,
   "metadata": {},
   "outputs": [
    {
     "name": "stdout",
     "output_type": "stream",
     "text": [
      "/home/olivia/Desktop/final/CSE599FinalProject\n"
     ]
    }
   ],
   "source": [
    "print(root)"
   ]
  },
  {
   "cell_type": "markdown",
   "metadata": {
    "id": "6wIcF0FT5dTp"
   },
   "source": [
    "## Prepare the data"
   ]
  },
  {
   "cell_type": "markdown",
   "metadata": {
    "id": "VTukoNRcE1tl"
   },
   "source": [
    "Example of cell image"
   ]
  },
  {
   "cell_type": "code",
   "execution_count": 4,
   "metadata": {
    "colab": {
     "base_uri": "https://localhost:8080/",
     "height": 341
    },
    "id": "U6Em4FMx5ff1",
    "outputId": "325b3bd9-9fa1-4fc5-ce61-ef055a9cbf7d",
    "scrolled": true
   },
   "outputs": [
    {
     "data": {
      "text/plain": [
       "<matplotlib.image.AxesImage at 0x7fbccd22e990>"
      ]
     },
     "execution_count": 4,
     "metadata": {},
     "output_type": "execute_result"
    },
    {
     "data": {
      "image/png": "[encoded data removed]",
      "text/plain": [
       "<Figure size 432x288 with 1 Axes>"
      ]
     },
     "metadata": {
      "needs_background": "light"
     },
     "output_type": "display_data"
    }
   ],
   "source": [
    "im = plt.imread(root + '/aska1aN/xy16Cell0000359/Cell0000359_frame_2.png')\n",
    "plt.imshow(im)"
   ]
  },
  {
   "cell_type": "code",
   "execution_count": 5,
   "metadata": {
    "colab": {
     "base_uri": "https://localhost:8080/"
    },
    "id": "K9bxnpfzho0-",
    "outputId": "9d61c72a-bbe6-493d-c837-118b46cdef61"
   },
   "outputs": [
    {
     "data": {
      "text/plain": [
       "(11, 31)"
      ]
     },
     "execution_count": 5,
     "metadata": {},
     "output_type": "execute_result"
    }
   ],
   "source": [
    "im.shape"
   ]
  },
  {
   "cell_type": "markdown",
   "metadata": {
    "id": "liLv4zFdE_us"
   },
   "source": [
    "**Inputs into convolutional LSTM are shaped:**\n",
    "\n",
    "**tensor of size B, T, C, H, W or T, B, C, H, W**\n",
    "\n",
    "B = batch\n",
    "\n",
    "T = timestep\n",
    "\n",
    "C = channels\n",
    "\n",
    "H = heights\n",
    "\n",
    "W = width \n",
    "\n",
    "We are currently thinking we do not have to pad the images. "
   ]
  },
  {
   "cell_type": "code",
   "execution_count": 6,
   "metadata": {},
   "outputs": [],
   "source": [
    "transform_horizontal = transforms.Compose([\n",
    "    transforms.RandomHorizontalFlip(1),\n",
    "])\n",
    "\n",
    "transform_vertical = transforms.Compose([\n",
    "    transforms.RandomVerticalFlip(1),\n",
    "])\n",
    "\n",
    "transform_both = transforms.Compose([\n",
    "    transforms.RandomVerticalFlip(1),\n",
    "    transforms.RandomHorizontalFlip(1),\n",
    "])"
   ]
  },
  {
   "cell_type": "code",
   "execution_count": 7,
   "metadata": {
    "id": "qqKnu3oYJmoy"
   },
   "outputs": [],
   "source": [
    "import imageio"
   ]
  },
  {
   "cell_type": "code",
   "execution_count": 8,
   "metadata": {
    "id": "AWt7ssA0E52O"
   },
   "outputs": [
    {
     "name": "stdout",
     "output_type": "stream",
     "text": [
      "--- 0.008280038833618164 seconds ---\n"
     ]
    }
   ],
   "source": [
    "start_time = time.time()\n",
    "\n",
    "dataDir = root + '/aska1aN/xy09Cell0000506'\n",
    "\n",
    "tower1 = torch.zeros(1,8,11,54)\n",
    "data = []\n",
    "\n",
    "for subdir, dirs, files in os.walk(dataDir):\n",
    "    try:\n",
    "        tower = [None] * 8\n",
    "        tower_vert = [None] * 8\n",
    "        tower_horz = [None] * 8\n",
    "        tower_both = [None] *8\n",
    "        for file in files:\n",
    "            #print(os.path.join(subdir, file))\n",
    "            im = torch.LongTensor(imageio.imread(os.path.join(subdir, file)))/255\n",
    "\n",
    "            #Padding\n",
    "            p = (54 - im.shape[1])//2\n",
    "            r = (54 - im.shape[1])%2\n",
    "            m = nn.ConstantPad1d(padding=(p + r, p), value=0)\n",
    "            im = m(im)\n",
    "            im = torch.reshape(im, (1,11,54))\n",
    "            \n",
    "            im_vert = transform_vertical(im)\n",
    "            im_horz = transform_horizontal(im)\n",
    "            im_both = transform_both(im)\n",
    "    \n",
    "            try:\n",
    "                i = int(os.path.join(subdir, file)[-5])\n",
    "                tower[i - 1] = im\n",
    "                tower_vert[i - 1] = im_vert\n",
    "                tower_horz[i - 1] = im_horz\n",
    "                tower_both[i - 1] = im_both\n",
    "            except:\n",
    "                pass\n",
    "    \n",
    "        if tower[0] != None:\n",
    "            #Convert list (tower) of cells into tensor\n",
    "            tower = torch.stack(tower, dim=0)\n",
    "            tower_vert = torch.stack(tower_vert, dim=0)\n",
    "            tower_horz = torch.stack(tower_horz, dim=0)\n",
    "            tower_both = torch.stack(tower_both, dim=0)\n",
    "            data.extend([tower, tower_vert, tower_horz, tower_both])\n",
    "            \n",
    "    except:\n",
    "        pass\n",
    "    \n",
    "print(\"--- %s seconds ---\" % (time.time() - start_time))"
   ]
  },
  {
   "cell_type": "code",
   "execution_count": 9,
   "metadata": {},
   "outputs": [
    {
     "data": {
      "text/plain": [
       "4"
      ]
     },
     "execution_count": 9,
     "metadata": {},
     "output_type": "execute_result"
    }
   ],
   "source": [
    "len(data)"
   ]
  },
  {
   "cell_type": "code",
   "execution_count": 10,
   "metadata": {},
   "outputs": [
    {
     "data": {
      "text/plain": [
       "tensor([[0.0000, 0.0000, 0.0000, 0.0000, 0.0000, 0.0000, 0.0000, 0.0000, 0.0000,\n",
       "         0.0000, 0.0000, 0.0000, 0.0000, 0.0000, 0.0000, 0.0000, 0.0000, 0.0000,\n",
       "         0.0000, 0.0000, 0.0000, 0.0000, 0.0000, 0.0000, 0.0000, 0.0000, 0.0000,\n",
       "         0.0000, 0.0000, 0.0000, 0.0000, 0.0000, 0.0000, 0.0000, 0.0000, 0.0000,\n",
       "         0.0000, 0.0000, 0.0000, 0.0000, 0.0000, 0.0000, 0.0000, 0.0000, 0.0000,\n",
       "         0.0000, 0.0000, 0.0000, 0.0000, 0.0000, 0.0000, 0.0000, 0.0000, 0.0000],\n",
       "        [0.0000, 0.0000, 0.0000, 0.0000, 0.0000, 0.0000, 0.0000, 0.0000, 0.0000,\n",
       "         0.0000, 0.0000, 0.0000, 0.0000, 0.0000, 0.0000, 0.0000, 0.0745, 0.0745,\n",
       "         0.0706, 0.0471, 0.0235, 0.0392, 0.0392, 0.0275, 0.0235, 0.0196, 0.0353,\n",
       "         0.0510, 0.0627, 0.0588, 0.0510, 0.0549, 0.0549, 0.0431, 0.0275, 0.0118,\n",
       "         0.0235, 0.0392, 0.0392, 0.0000, 0.0000, 0.0000, 0.0000, 0.0000, 0.0000,\n",
       "         0.0000, 0.0000, 0.0000, 0.0000, 0.0000, 0.0000, 0.0000, 0.0000, 0.0000],\n",
       "        [0.0000, 0.0000, 0.0000, 0.0000, 0.0000, 0.0000, 0.0000, 0.0000, 0.0000,\n",
       "         0.0000, 0.0000, 0.0000, 0.0000, 0.0000, 0.0000, 0.1294, 0.1294, 0.1020,\n",
       "         0.0745, 0.0510, 0.0392, 0.0471, 0.0431, 0.0392, 0.0549, 0.0353, 0.0353,\n",
       "         0.0392, 0.0588, 0.0510, 0.0431, 0.0431, 0.0392, 0.0314, 0.0431, 0.0118,\n",
       "         0.0235, 0.0353, 0.0275, 0.0392, 0.0000, 0.0000, 0.0000, 0.0000, 0.0000,\n",
       "         0.0000, 0.0000, 0.0000, 0.0000, 0.0000, 0.0000, 0.0000, 0.0000, 0.0000],\n",
       "        [0.0000, 0.0000, 0.0000, 0.0000, 0.0000, 0.0000, 0.0000, 0.0000, 0.0000,\n",
       "         0.0000, 0.0000, 0.0000, 0.0000, 0.0000, 0.2784, 0.3569, 0.2314, 0.1569,\n",
       "         0.0941, 0.0745, 0.0627, 0.0588, 0.0471, 0.0431, 0.0353, 0.0157, 0.0353,\n",
       "         0.0431, 0.0510, 0.0392, 0.0353, 0.0353, 0.0431, 0.0275, 0.0314, 0.0392,\n",
       "         0.0353, 0.0314, 0.0392, 0.0314, 0.0235, 0.0000, 0.0000, 0.0000, 0.0000,\n",
       "         0.0000, 0.0000, 0.0000, 0.0000, 0.0000, 0.0000, 0.0000, 0.0000, 0.0000],\n",
       "        [0.0000, 0.0000, 0.0000, 0.0000, 0.0000, 0.0000, 0.0000, 0.0000, 0.0000,\n",
       "         0.0000, 0.0000, 0.0000, 0.0000, 0.0000, 0.5333, 0.7333, 0.4078, 0.1725,\n",
       "         0.1020, 0.0745, 0.0588, 0.0549, 0.0471, 0.0353, 0.0314, 0.0275, 0.0314,\n",
       "         0.0314, 0.0353, 0.0314, 0.0275, 0.0431, 0.0392, 0.0431, 0.0471, 0.0314,\n",
       "         0.0392, 0.0196, 0.0157, 0.0275, 0.0353, 0.0000, 0.0000, 0.0000, 0.0000,\n",
       "         0.0000, 0.0000, 0.0000, 0.0000, 0.0000, 0.0000, 0.0000, 0.0000, 0.0000],\n",
       "        [0.0000, 0.0000, 0.0000, 0.0000, 0.0000, 0.0000, 0.0000, 0.0000, 0.0000,\n",
       "         0.0000, 0.0000, 0.0000, 0.0000, 0.0000, 0.6863, 1.0000, 0.4627, 0.1451,\n",
       "         0.0980, 0.0588, 0.0471, 0.0471, 0.0510, 0.0392, 0.0392, 0.0353, 0.0353,\n",
       "         0.0157, 0.0314, 0.0314, 0.0235, 0.0275, 0.0275, 0.0353, 0.0588, 0.0392,\n",
       "         0.0431, 0.0353, 0.0431, 0.0196, 0.0431, 0.0000, 0.0000, 0.0000, 0.0000,\n",
       "         0.0000, 0.0000, 0.0000, 0.0000, 0.0000, 0.0000, 0.0000, 0.0000, 0.0000],\n",
       "        [0.0000, 0.0000, 0.0000, 0.0000, 0.0000, 0.0000, 0.0000, 0.0000, 0.0000,\n",
       "         0.0000, 0.0000, 0.0000, 0.0000, 0.0000, 0.5451, 0.7804, 0.3765, 0.1490,\n",
       "         0.0941, 0.0706, 0.0471, 0.0392, 0.0314, 0.0314, 0.0235, 0.0392, 0.0275,\n",
       "         0.0275, 0.0314, 0.0235, 0.0431, 0.0353, 0.0353, 0.0157, 0.0353, 0.0471,\n",
       "         0.0392, 0.0157, 0.0118, 0.0235, 0.0314, 0.0000, 0.0000, 0.0000, 0.0000,\n",
       "         0.0000, 0.0000, 0.0000, 0.0000, 0.0000, 0.0000, 0.0000, 0.0000, 0.0000],\n",
       "        [0.0000, 0.0000, 0.0000, 0.0000, 0.0000, 0.0000, 0.0000, 0.0000, 0.0000,\n",
       "         0.0000, 0.0000, 0.0000, 0.0000, 0.0000, 0.2863, 0.3804, 0.2431, 0.1255,\n",
       "         0.0627, 0.0706, 0.0667, 0.0471, 0.0314, 0.0235, 0.0353, 0.0353, 0.0275,\n",
       "         0.0196, 0.0235, 0.0275, 0.0235, 0.0314, 0.0275, 0.0235, 0.0314, 0.0431,\n",
       "         0.0392, 0.0275, 0.0196, 0.0275, 0.0157, 0.0000, 0.0000, 0.0000, 0.0000,\n",
       "         0.0000, 0.0000, 0.0000, 0.0000, 0.0000, 0.0000, 0.0000, 0.0000, 0.0000],\n",
       "        [0.0000, 0.0000, 0.0000, 0.0000, 0.0000, 0.0000, 0.0000, 0.0000, 0.0000,\n",
       "         0.0000, 0.0000, 0.0000, 0.0000, 0.0000, 0.0000, 0.1647, 0.1294, 0.0980,\n",
       "         0.0627, 0.0627, 0.0549, 0.0392, 0.0353, 0.0235, 0.0314, 0.0353, 0.0314,\n",
       "         0.0314, 0.0235, 0.0157, 0.0000, 0.0196, 0.0314, 0.0353, 0.0353, 0.0275,\n",
       "         0.0235, 0.0314, 0.0392, 0.0235, 0.0000, 0.0000, 0.0000, 0.0000, 0.0000,\n",
       "         0.0000, 0.0000, 0.0000, 0.0000, 0.0000, 0.0000, 0.0000, 0.0000, 0.0000],\n",
       "        [0.0000, 0.0000, 0.0000, 0.0000, 0.0000, 0.0000, 0.0000, 0.0000, 0.0000,\n",
       "         0.0000, 0.0000, 0.0000, 0.0000, 0.0000, 0.0000, 0.0000, 0.1059, 0.0706,\n",
       "         0.0471, 0.0392, 0.0275, 0.0314, 0.0275, 0.0275, 0.0392, 0.0353, 0.0314,\n",
       "         0.0275, 0.0275, 0.0275, 0.0196, 0.0118, 0.0314, 0.0235, 0.0196, 0.0275,\n",
       "         0.0235, 0.0157, 0.0118, 0.0000, 0.0000, 0.0000, 0.0000, 0.0000, 0.0000,\n",
       "         0.0000, 0.0000, 0.0000, 0.0000, 0.0000, 0.0000, 0.0000, 0.0000, 0.0000],\n",
       "        [0.0000, 0.0000, 0.0000, 0.0000, 0.0000, 0.0000, 0.0000, 0.0000, 0.0000,\n",
       "         0.0000, 0.0000, 0.0000, 0.0000, 0.0000, 0.0000, 0.0000, 0.0000, 0.0000,\n",
       "         0.0000, 0.0000, 0.0000, 0.0000, 0.0000, 0.0000, 0.0000, 0.0000, 0.0000,\n",
       "         0.0000, 0.0000, 0.0000, 0.0000, 0.0000, 0.0000, 0.0000, 0.0000, 0.0000,\n",
       "         0.0000, 0.0000, 0.0000, 0.0000, 0.0000, 0.0000, 0.0000, 0.0000, 0.0000,\n",
       "         0.0000, 0.0000, 0.0000, 0.0000, 0.0000, 0.0000, 0.0000, 0.0000, 0.0000]])"
      ]
     },
     "execution_count": 10,
     "metadata": {},
     "output_type": "execute_result"
    }
   ],
   "source": [
    "data[0][0][0]"
   ]
  },
  {
   "cell_type": "markdown",
   "metadata": {
    "id": "jjHV5SIjzsQ9"
   },
   "source": [
    "#### Defining the dataloaders "
   ]
  },
  {
   "cell_type": "code",
   "execution_count": 11,
   "metadata": {
    "id": "2IbfBbP1qdrT"
   },
   "outputs": [],
   "source": [
    "n = len(data)\n",
    "trainLength = (n//5)*4\n",
    "testLength = n - trainLength\n",
    "\n",
    "trainset, testset = torch.utils.data.random_split(data, [trainLength, testLength], \n",
    "                                                  generator=torch.Generator().manual_seed(42))\n",
    "\n",
    "d = trainLength\n",
    "trainLength = (d//5)*4\n",
    "valLength = d - trainLength\n",
    "\n",
    "\n",
    "trainset, valset = torch.utils.data.random_split(trainset, [trainLength, valLength], \n",
    "                                                  generator=torch.Generator().manual_seed(42))\n"
   ]
  },
  {
   "cell_type": "code",
   "execution_count": 12,
   "metadata": {},
   "outputs": [
    {
     "data": {
      "text/plain": [
       "torch.Size([8, 1, 11, 54])"
      ]
     },
     "execution_count": 12,
     "metadata": {},
     "output_type": "execute_result"
    }
   ],
   "source": [
    "testset[0].shape"
   ]
  },
  {
   "cell_type": "markdown",
   "metadata": {
    "id": "wLoGqmCkYtVa"
   },
   "source": [
    "## Defining the network"
   ]
  },
  {
   "cell_type": "markdown",
   "metadata": {
    "id": "LeC19ijmn6NV"
   },
   "source": [
    "### Convolutional LSTM \n",
    "Adapted from [ndrplz](https://raw.githubusercontent.com/ndrplz/ConvLSTM_pytorch/master/convlstm.py)."
   ]
  },
  {
   "cell_type": "code",
   "execution_count": 11,
   "metadata": {
    "id": "A-v9LrxSno3x"
   },
   "outputs": [],
   "source": [
    "class ConvLSTMCell(nn.Module):\n",
    "\n",
    "    def __init__(self, input_dim, hidden_dim, kernel_size, bias):\n",
    "        \"\"\"\n",
    "        Initialize ConvLSTM cell.\n",
    "\n",
    "        Parameters\n",
    "        ----------\n",
    "        input_dim: int\n",
    "            Number of channels of input tensor.\n",
    "        hidden_dim: int\n",
    "            Number of channels of hidden state.\n",
    "        kernel_size: (int, int)\n",
    "            Size of the convolutional kernel.\n",
    "        bias: bool\n",
    "            Whether or not to add the bias.\n",
    "        \"\"\"\n",
    "\n",
    "        super(ConvLSTMCell, self).__init__()\n",
    "\n",
    "        self.input_dim = input_dim\n",
    "        self.hidden_dim = hidden_dim\n",
    "\n",
    "        self.kernel_size = kernel_size\n",
    "        self.padding = kernel_size[0] // 2, kernel_size[1] // 2\n",
    "        self.bias = bias\n",
    "\n",
    "        self.conv = nn.Conv2d(in_channels=self.input_dim + self.hidden_dim,\n",
    "                              out_channels=4 * self.hidden_dim,\n",
    "                              kernel_size=self.kernel_size,\n",
    "                              padding=self.padding,\n",
    "                              bias=self.bias)\n",
    "\n",
    "    def forward(self, input_tensor, cur_state):\n",
    "        h_cur, c_cur = cur_state\n",
    "\n",
    "        combined = torch.cat([input_tensor, h_cur], dim=1)  # concatenate along channel axis\n",
    "\n",
    "        combined_conv = self.conv(combined)\n",
    "        cc_i, cc_f, cc_o, cc_g = torch.split(combined_conv, self.hidden_dim, dim=1)\n",
    "        i = torch.sigmoid(cc_i)\n",
    "        f = torch.sigmoid(cc_f)\n",
    "        o = torch.sigmoid(cc_o)\n",
    "        g = torch.tanh(cc_g)\n",
    "\n",
    "        c_next = f * c_cur + i * g\n",
    "        h_next = o * torch.tanh(c_next)\n",
    "\n",
    "        return h_next, c_next\n",
    "\n",
    "    def init_hidden(self, batch_size, image_size):\n",
    "        height, width = image_size\n",
    "        return (torch.zeros(batch_size, self.hidden_dim, height, width, device=self.conv.weight.device),\n",
    "                torch.zeros(batch_size, self.hidden_dim, height, width, device=self.conv.weight.device))\n",
    "\n",
    "\n",
    "class ConvLSTM(nn.Module):\n",
    "\n",
    "    \"\"\"\n",
    "\n",
    "    Parameters:\n",
    "        input_dim: Number of channels in input\n",
    "        hidden_dim: Number of hidden channels\n",
    "        kernel_size: Size of kernel in convolutions\n",
    "        num_layers: Number of LSTM layers stacked on each other\n",
    "        batch_first: Whether or not dimension 0 is the batch or not\n",
    "        bias: Bias or no bias in Convolution\n",
    "        return_all_layers: Return the list of computations for all layers\n",
    "        Note: Will do same padding.\n",
    "\n",
    "    Input:\n",
    "        A tensor of size B, T, C, H, W or T, B, C, H, W\n",
    "    Output:\n",
    "        A tuple of two lists of length num_layers (or length 1 if return_all_layers is False).\n",
    "            0 - layer_output_list is the list of lists of length T of each output\n",
    "            1 - last_state_list is the list of last states\n",
    "                    each element of the list is a tuple (h, c) for hidden state and memory\n",
    "    Example:\n",
    "        >> x = torch.rand((32, 10, 64, 128, 128))\n",
    "        >> convlstm = ConvLSTM(64, 16, 3, 1, True, True, False)\n",
    "        >> _, last_states = convlstm(x)\n",
    "        >> h = last_states[0][0]  # 0 for layer index, 0 for h index\n",
    "    \"\"\"\n",
    "\n",
    "    def __init__(self, input_dim, hidden_dim, kernel_size, num_layers,\n",
    "                 batch_first=False, bias=True, return_all_layers=False):\n",
    "        super(ConvLSTM, self).__init__()\n",
    "\n",
    "        self._check_kernel_size_consistency(kernel_size)\n",
    "\n",
    "        # Make sure that both `kernel_size` and `hidden_dim` are lists having len == num_layers\n",
    "        kernel_size = self._extend_for_multilayer(kernel_size, num_layers)\n",
    "        hidden_dim = self._extend_for_multilayer(hidden_dim, num_layers)\n",
    "        if not len(kernel_size) == len(hidden_dim) == num_layers:\n",
    "            raise ValueError('Inconsistent list length.')\n",
    "\n",
    "        self.input_dim = input_dim\n",
    "        self.hidden_dim = hidden_dim\n",
    "        self.kernel_size = kernel_size\n",
    "        self.num_layers = num_layers\n",
    "        self.batch_first = batch_first\n",
    "        self.bias = bias\n",
    "        self.return_all_layers = return_all_layers\n",
    "\n",
    "        cell_list = []\n",
    "        for i in range(0, self.num_layers):\n",
    "            cur_input_dim = self.input_dim if i == 0 else self.hidden_dim[i - 1]\n",
    "\n",
    "            cell_list.append(ConvLSTMCell(input_dim=cur_input_dim,\n",
    "                                          hidden_dim=self.hidden_dim[i],\n",
    "                                          kernel_size=self.kernel_size[i],\n",
    "                                          bias=self.bias))\n",
    "\n",
    "        self.cell_list = nn.ModuleList(cell_list)\n",
    "\n",
    "    def forward(self, input_tensor, hidden_state=None):\n",
    "        \"\"\"\n",
    "\n",
    "        Parameters\n",
    "        ----------\n",
    "        input_tensor: todo\n",
    "            5-D Tensor either of shape (t, b, c, h, w) or (b, t, c, h, w)\n",
    "        hidden_state: todo\n",
    "            None. todo implement stateful\n",
    "\n",
    "        Returns\n",
    "        -------\n",
    "        last_state_list, layer_output\n",
    "        \"\"\"\n",
    "        if not self.batch_first:\n",
    "            # (t, b, c, h, w) -> (b, t, c, h, w)\n",
    "            input_tensor = input_tensor.permute(1, 0, 2, 3, 4)\n",
    "\n",
    "        b, _, _, h, w = input_tensor.size()\n",
    "\n",
    "        # Implement stateful ConvLSTM\n",
    "        if hidden_state is not None:\n",
    "            raise NotImplementedError()\n",
    "        else:\n",
    "            # Since the init is done in forward. Can send image size here\n",
    "            hidden_state = self._init_hidden(batch_size=b,\n",
    "                                             image_size=(h, w))\n",
    "\n",
    "        layer_output_list = []\n",
    "        last_state_list = []\n",
    "\n",
    "        seq_len = input_tensor.size(1)\n",
    "        cur_layer_input = input_tensor\n",
    "\n",
    "        for layer_idx in range(self.num_layers):\n",
    "\n",
    "            h, c = hidden_state[layer_idx]\n",
    "            output_inner = []\n",
    "            for t in range(seq_len):\n",
    "                h, c = self.cell_list[layer_idx](input_tensor=cur_layer_input[:, t, :, :, :],\n",
    "                                                 cur_state=[h, c])\n",
    "                output_inner.append(h)\n",
    "\n",
    "            layer_output = torch.stack(output_inner, dim=1)\n",
    "            cur_layer_input = layer_output\n",
    "\n",
    "            layer_output_list.append(layer_output)\n",
    "            last_state_list.append([h, c])\n",
    "\n",
    "        if not self.return_all_layers:\n",
    "            layer_output_list = layer_output_list[-1:]\n",
    "            last_state_list = last_state_list[-1:]\n",
    "\n",
    "        return layer_output_list, last_state_list\n",
    "\n",
    "    def _init_hidden(self, batch_size, image_size):\n",
    "        init_states = []\n",
    "        for i in range(self.num_layers):\n",
    "            init_states.append(self.cell_list[i].init_hidden(batch_size, image_size))\n",
    "        return init_states\n",
    "\n",
    "    @staticmethod\n",
    "    def _check_kernel_size_consistency(kernel_size):\n",
    "        if not (isinstance(kernel_size, tuple) or\n",
    "                (isinstance(kernel_size, list) and all([isinstance(elem, tuple) for elem in kernel_size]))):\n",
    "            raise ValueError('`kernel_size` must be tuple or list of tuples')\n",
    "\n",
    "    @staticmethod\n",
    "    def _extend_for_multilayer(param, num_layers):\n",
    "        if not isinstance(param, list):\n",
    "            param = [param] * num_layers\n",
    "        return param"
   ]
  },
  {
   "cell_type": "markdown",
   "metadata": {
    "id": "PQsbYinn1O8b"
   },
   "source": [
    "### ConvLSTMNet\n",
    "Simple model with single convolution LSTM layer. Using this model as a baseline before we add in more convolutional layers and residual connections. "
   ]
  },
  {
   "cell_type": "code",
   "execution_count": 12,
   "metadata": {
    "id": "Yqt5npiJYtBe"
   },
   "outputs": [],
   "source": [
    "class ConvLSTMNet(nn.Module):\n",
    "    \n",
    "  def __init__(self, inputChannels, featureSize):\n",
    "    super(ConvLSTMNet, self).__init__()\n",
    "\n",
    "    self.c = inputChannels\n",
    "    self.featureSize = featureSize\n",
    "\n",
    "    #ConvLSTM uses convolutional operations rather than regular matrix operations\n",
    "    self.convLSTM = ConvLSTM(input_dim=self.c, hidden_dim=self.featureSize, kernel_size=[(3,3)], num_layers=1,\n",
    "                            batch_first=True)\n",
    "    self.conv1 = nn.Conv2d(in_channels=self.featureSize, out_channels=self.c, kernel_size=3, stride=1,\n",
    "                           padding=1)\n",
    "    self.bn1 = nn.BatchNorm3d(num_features=7)\n",
    "\n",
    "\n",
    "\n",
    "  def forward(self, x, hidden = None):\n",
    "    \"\"\"\n",
    "    , hidden=None\n",
    "    Takes in a batch of data (N, T, 11, 54). Data are sequences of images. The batch is a tensor\n",
    "    with dimensions N: batch size, 56: width of image, 12: height of image, T: number of timesteps.\n",
    "    Returns a tensor of shape (N, 1, 11, 56) which is the predicted next frame in the sequence.\n",
    "    Also returns an encoded label indicating which protein type the sequence contains. \n",
    "        \n",
    "    :param batch: Tensor of shape (N, T, 11, 54) Batch of time series frames. Dimensions: N \n",
    "    (number of samples) by 56 (width of image) by 12 (height of image) by T (number of timesteps). \n",
    "\n",
    "    :return prediction: Tensor of shape (N, 1, 11, 54). Dimensions: N (number of samples) by \n",
    "    54 (width of image) by 11 (height of image) by 1 (number of timesteps in the future). \n",
    "\n",
    "    \"\"\"\n",
    "    x = x.float() \n",
    "     \n",
    "    x = F.relu(x)\n",
    "    x = self.bn1(x)\n",
    "    \n",
    "    x, hidden = self.convLSTM(x, hidden)\n",
    "    hidden = self.conv1(hidden[0][0])\n",
    "    \n",
    "    return x, hidden\n",
    "  "
   ]
  },
  {
   "cell_type": "markdown",
   "metadata": {
    "id": "48-1zP5z7fw_"
   },
   "source": [
    "## Training"
   ]
  },
  {
   "cell_type": "code",
   "execution_count": 13,
   "metadata": {
    "id": "miqxkrkQ7hHC"
   },
   "outputs": [],
   "source": [
    "import tqdm\n",
    "def repackage_hidden(h):\n",
    "    \"\"\"Wraps hidden states in new Tensors, to detach them from their history.\"\"\"\n",
    "    if isinstance(h, torch.Tensor):\n",
    "        return h.detach()\n",
    "    else:\n",
    "        return tuple(repackage_hidden(v) for v in h)\n",
    "\n",
    "\n",
    "def train(model, device, optimizer, trainloader, valloader, lr, epoch, log_interval):\n",
    "    model.train()\n",
    "    losses = []\n",
    "    valLosses = []\n",
    "    hidden = None\n",
    "    \n",
    "\n",
    "\n",
    "    for i, data in enumerate(trainloader, 0):\n",
    "        #Inputs are first 7 cells in a tower, outputs are cell in a tower \n",
    "        inputs = torch.stack([x[0:7,:,:,:].reshape(7,1,11,54) for x in data])\n",
    "        outputs = torch.stack([x[7,:,:,:].reshape(1,11,54) for x in data])\n",
    "        inputs = inputs.to(device)\n",
    "        outputs = outputs.to(device)\n",
    "\n",
    "        # Separates the hidden state across batches. \n",
    "        # Otherwise the backward would try to go all the way to the beginning every time.\n",
    "        if hidden is not None:\n",
    "            hidden = repackage_hidden(hidden)\n",
    "            \n",
    "        optimizer.zero_grad()\n",
    "        preds_train, hidden = model(inputs)\n",
    "        \n",
    "        #print('inputs ',inputs.shape)\n",
    "        #print('outputs ',outputs.shape)\n",
    "        #print('preds_train ',preds_train.shape)\n",
    "\n",
    "        loss = torch.sqrt(F.mse_loss(hidden[0][0],outputs.float()))\n",
    "        losses.append(loss.item())\n",
    "        loss.backward()\n",
    "        optimizer.step()\n",
    "        if i % log_interval == 0:\n",
    "            print('Train Epoch: {} [{}/{} ({:.0f}%)]\\tLoss: {:.6f}'.format(\n",
    "                epoch, i * len(data), len(trainloader.dataset),\n",
    "                100. * i / len(trainloader), loss.item()))   \n",
    "            \n",
    "    train = [[data], [hidden]]\n",
    "\n",
    "    #Validation       \n",
    "    for i, data in enumerate(valloader, 0):\n",
    "        inputs = torch.stack([x[0:7,:,:,:].reshape(7,1,11,54) for x in data])\n",
    "        outputs = torch.stack([x[7,:,:,:].reshape(1,11,54) for x in data])\n",
    "        inputs = inputs.to(device)\n",
    "        outputs = outputs.to(device)\n",
    "\n",
    "        if hidden is not None:\n",
    "          hidden = repackage_hidden(hidden)\n",
    "\n",
    "        preds_val, hidden = model(inputs)\n",
    "        loss = torch.sqrt(F.mse_loss(hidden[0][0],outputs))\n",
    "        valLosses.append(loss.item())\n",
    "        if i % log_interval == 0:\n",
    "              print('Train Epoch: {} [{}/{} ({:.0f}%)]\\tVal Loss: {:.6f}'.format(\n",
    "                  epoch, i * len(data), len(valloader.dataset),\n",
    "                  100. * i / len(valloader), loss.item()))\n",
    "                \n",
    "    val = [[data], [hidden]]\n",
    "                \n",
    "    return np.mean(losses), np.mean(valLosses), train, val\n",
    "\n",
    "\n",
    "def test(model, device, test_loader):\n",
    "    model.eval()\n",
    "    testLosses = []\n",
    "    \n",
    "    with torch.no_grad():\n",
    "        hidden = None\n",
    "        for i, data in enumerate(testloader, 0):\n",
    "            inputs = torch.stack([x[0:7,:,:,:].reshape(7,1,11,54) for x in data])\n",
    "            outputs = torch.stack([x[7,:,:,:].reshape(1,11,54) for x in data])\n",
    "            inputs = inputs.to(device)\n",
    "            outputs = outputs.to(device)\n",
    "\n",
    "\n",
    "            preds_test, hidden = model(inputs)\n",
    "            loss = torch.sqrt(F.mse_loss(hidden[0][0],outputs))\n",
    "            testLosses.append(loss.item())\n",
    "            \n",
    "        test = [[data], [hidden]]\n",
    "\n",
    "    return np.mean(testLosses), test"
   ]
  },
  {
   "cell_type": "code",
   "execution_count": 14,
   "metadata": {
    "id": "L8cfWhfdBD2k"
   },
   "outputs": [
    {
     "ename": "NameError",
     "evalue": "name 'trainset' is not defined",
     "output_type": "error",
     "traceback": [
      "\u001b[0;31m---------------------------------------------------------------------------\u001b[0m",
      "\u001b[0;31mNameError\u001b[0m                                 Traceback (most recent call last)",
      "\u001b[0;32m<ipython-input-14-9e5c42bb94bc>\u001b[0m in \u001b[0;36m<module>\u001b[0;34m\u001b[0m\n\u001b[1;32m      2\u001b[0m          \u001b[0mFEATURE_SIZE\u001b[0m \u001b[0;34m=\u001b[0m \u001b[0;36m64\u001b[0m\u001b[0;34m,\u001b[0m \u001b[0mTEST_BATCH_SIZE\u001b[0m \u001b[0;34m=\u001b[0m \u001b[0;36m256\u001b[0m\u001b[0;34m,\u001b[0m \u001b[0mEPOCHS\u001b[0m \u001b[0;34m=\u001b[0m \u001b[0;36m2\u001b[0m\u001b[0;34m,\u001b[0m\u001b[0;34m\u001b[0m\u001b[0;34m\u001b[0m\u001b[0m\n\u001b[1;32m      3\u001b[0m          \u001b[0mLEARNING_RATE\u001b[0m \u001b[0;34m=\u001b[0m \u001b[0;36m0.002\u001b[0m\u001b[0;34m,\u001b[0m \u001b[0mWEIGHT_DECAY\u001b[0m \u001b[0;34m=\u001b[0m \u001b[0;36m0.0005\u001b[0m\u001b[0;34m,\u001b[0m \u001b[0mEXP_VER\u001b[0m \u001b[0;34m=\u001b[0m \u001b[0;34m'00001'\u001b[0m\u001b[0;34m,\u001b[0m\u001b[0;34m\u001b[0m\u001b[0;34m\u001b[0m\u001b[0m\n\u001b[0;32m----> 4\u001b[0;31m          data_train = trainset, data_val = valset, data_test = testset):\n\u001b[0m\u001b[1;32m      5\u001b[0m \u001b[0;34m\u001b[0m\u001b[0m\n\u001b[1;32m      6\u001b[0m     \u001b[0mPRINT_INTERVAL\u001b[0m \u001b[0;34m=\u001b[0m \u001b[0;36m1\u001b[0m\u001b[0;34m\u001b[0m\u001b[0;34m\u001b[0m\u001b[0m\n",
      "\u001b[0;31mNameError\u001b[0m: name 'trainset' is not defined"
     ]
    }
   ],
   "source": [
    "def main(trainloader, valloader, testloader, BATCH_SIZE = 256, \n",
    "         FEATURE_SIZE = 64, TEST_BATCH_SIZE = 256, EPOCHS = 2, \n",
    "         LEARNING_RATE = 0.002, WEIGHT_DECAY = 0.0005, EXP_VER = '00001',\n",
    "         data_train = trainset, data_val = valset, data_test = testset):\n",
    "  \n",
    "    PRINT_INTERVAL = 1\n",
    "    USE_CUDA = True\n",
    "    LOG_PATH = root + EXP_VER + 'logs/log.pkl'\n",
    "    \n",
    "    test_losses = []\n",
    "    train_losses = []\n",
    "    val_losses = []\n",
    "    trainPredictions = []\n",
    "    valPredictions = []\n",
    "    testPredictions = []\n",
    "\n",
    "    use_cuda = USE_CUDA and torch.cuda.is_available()\n",
    "\n",
    "    device = torch.device(\"cuda\" if use_cuda else \"cpu\")\n",
    "    print('Using device', device)\n",
    "    import multiprocessing\n",
    "    num_workers = multiprocessing.cpu_count()\n",
    "    print('num workers:', num_workers)\n",
    "\n",
    "    kwargs = {'num_workers': num_workers,\n",
    "              'pin_memory': True} if use_cuda else {}\n",
    "\n",
    "    model = ConvLSTMNet(inputChannels=1, featureSize=FEATURE_SIZE).to(device)\n",
    "    optimizer = torch.optim.Adam(model.parameters(), lr=LEARNING_RATE, weight_decay=WEIGHT_DECAY)\n",
    "\n",
    "    start_epoch = 0\n",
    "\n",
    "    test_loss, testPredicts = test(model, device, testloader)\n",
    "    test_losses.append((start_epoch, test_loss/len(testset)))\n",
    "\n",
    "    try:\n",
    "      for epoch in range(start_epoch, EPOCHS + 1):\n",
    "        lr = LEARNING_RATE\n",
    "        train_loss, val_loss, trainPredicts, valPredicts = train(model, device, optimizer,\n",
    "                                                                 trainloader, valloader,\n",
    "                                                                 lr, epoch, PRINT_INTERVAL)\n",
    "        test_loss, testPredicts = test(model, device, testloader)\n",
    "\n",
    "        train_losses.append((epoch, train_loss))\n",
    "        val_losses.append((epoch, val_loss))\n",
    "        test_losses.append((epoch, test_loss))\n",
    "        \n",
    "        trainPredictions.append((epoch, trainPredicts))\n",
    "        valPredictions.append((epoch, valPredicts))\n",
    "        testPredictions.append((epoch, testPredicts))\n",
    "\n",
    "\n",
    "    except KeyboardInterrupt as ke:\n",
    "        print('Interrupted')\n",
    "    except:\n",
    "        import traceback\n",
    "        traceback.print_exc()\n",
    "    finally:\n",
    "        print('Saving final model')\n",
    "        # Specify a path\n",
    "        modelName = EXP_VER + \"_state_dict_model.pt\"\n",
    "        PATH = os.path.join(root, modelName)\n",
    "        torch.save(model.state_dict(), PATH)\n",
    "        histories = zip(train_losses, val_losses, test_losses) \n",
    "        predictions = zip(trainPredictions[-1], valPredictions[-1], testPredictions[-1])\n",
    "        historyFile = EXP_VER + '_history.pkl'\n",
    "        predictionsFile = EXP_VER + '_predictions.pkl'\n",
    "        pickle.dump(histories, open(os.path.join(root, historyFile), 'wb'))\n",
    "        pickle.dump(predictions, open(os.path.join(root, predictionsFile), 'wb'))\n",
    "        \n",
    "    return model, device, histories, predictions"
   ]
  },
  {
   "cell_type": "code",
   "execution_count": 159,
   "metadata": {
    "colab": {
     "base_uri": "https://localhost:8080/",
     "height": 630
    },
    "id": "6vVmqVuGuROm",
    "outputId": "6a54c48e-38b7-473e-e9ea-365819d343cc"
   },
   "outputs": [
    {
     "name": "stdout",
     "output_type": "stream",
     "text": [
      "Using device cuda\n",
      "num workers: 12\n"
     ]
    },
    {
     "ename": "RuntimeError",
     "evalue": "The size of tensor a (128) must match the size of tensor b (7) at non-singleton dimension 1",
     "output_type": "error",
     "traceback": [
      "\u001b[0;31m---------------------------------------------------------------------------\u001b[0m",
      "\u001b[0;31mRuntimeError\u001b[0m                              Traceback (most recent call last)",
      "\u001b[0;32m<ipython-input-159-972fe16f9374>\u001b[0m in \u001b[0;36m<module>\u001b[0;34m\u001b[0m\n\u001b[1;32m     13\u001b[0m model, device, histories, predictions = main(trainloader, valloader, testloader,\n\u001b[1;32m     14\u001b[0m                      \u001b[0mBATCH_SIZE\u001b[0m \u001b[0;34m=\u001b[0m \u001b[0mbatchSize\u001b[0m\u001b[0;34m,\u001b[0m \u001b[0mFEATURE_SIZE\u001b[0m \u001b[0;34m=\u001b[0m \u001b[0;36m4\u001b[0m\u001b[0;34m,\u001b[0m \u001b[0mTEST_BATCH_SIZE\u001b[0m \u001b[0;34m=\u001b[0m \u001b[0;36m128\u001b[0m\u001b[0;34m,\u001b[0m\u001b[0;34m\u001b[0m\u001b[0;34m\u001b[0m\u001b[0m\n\u001b[0;32m---> 15\u001b[0;31m                      EPOCHS = 120, LEARNING_RATE = 0.002, WEIGHT_DECAY = 0.0005, EXP_VER = '23')\n\u001b[0m\u001b[1;32m     16\u001b[0m \u001b[0;34m\u001b[0m\u001b[0m\n\u001b[1;32m     17\u001b[0m \u001b[0mprint\u001b[0m\u001b[0;34m(\u001b[0m\u001b[0;34m\"--- %s seconds ---\"\u001b[0m \u001b[0;34m%\u001b[0m \u001b[0;34m(\u001b[0m\u001b[0mtime\u001b[0m\u001b[0;34m.\u001b[0m\u001b[0mtime\u001b[0m\u001b[0;34m(\u001b[0m\u001b[0;34m)\u001b[0m \u001b[0;34m-\u001b[0m \u001b[0mstart_time\u001b[0m\u001b[0;34m)\u001b[0m\u001b[0;34m)\u001b[0m\u001b[0;34m\u001b[0m\u001b[0;34m\u001b[0m\u001b[0m\n",
      "\u001b[0;32m<ipython-input-158-9e5c42bb94bc>\u001b[0m in \u001b[0;36mmain\u001b[0;34m(trainloader, valloader, testloader, BATCH_SIZE, FEATURE_SIZE, TEST_BATCH_SIZE, EPOCHS, LEARNING_RATE, WEIGHT_DECAY, EXP_VER, data_train, data_val, data_test)\u001b[0m\n\u001b[1;32m     31\u001b[0m     \u001b[0mstart_epoch\u001b[0m \u001b[0;34m=\u001b[0m \u001b[0;36m0\u001b[0m\u001b[0;34m\u001b[0m\u001b[0;34m\u001b[0m\u001b[0m\n\u001b[1;32m     32\u001b[0m \u001b[0;34m\u001b[0m\u001b[0m\n\u001b[0;32m---> 33\u001b[0;31m     \u001b[0mtest_loss\u001b[0m\u001b[0;34m,\u001b[0m \u001b[0mtestPredicts\u001b[0m \u001b[0;34m=\u001b[0m \u001b[0mtest\u001b[0m\u001b[0;34m(\u001b[0m\u001b[0mmodel\u001b[0m\u001b[0;34m,\u001b[0m \u001b[0mdevice\u001b[0m\u001b[0;34m,\u001b[0m \u001b[0mtestloader\u001b[0m\u001b[0;34m)\u001b[0m\u001b[0;34m\u001b[0m\u001b[0;34m\u001b[0m\u001b[0m\n\u001b[0m\u001b[1;32m     34\u001b[0m     \u001b[0mtest_losses\u001b[0m\u001b[0;34m.\u001b[0m\u001b[0mappend\u001b[0m\u001b[0;34m(\u001b[0m\u001b[0;34m(\u001b[0m\u001b[0mstart_epoch\u001b[0m\u001b[0;34m,\u001b[0m \u001b[0mtest_loss\u001b[0m\u001b[0;34m/\u001b[0m\u001b[0mlen\u001b[0m\u001b[0;34m(\u001b[0m\u001b[0mtestset\u001b[0m\u001b[0;34m)\u001b[0m\u001b[0;34m)\u001b[0m\u001b[0;34m)\u001b[0m\u001b[0;34m\u001b[0m\u001b[0;34m\u001b[0m\u001b[0m\n\u001b[1;32m     35\u001b[0m \u001b[0;34m\u001b[0m\u001b[0m\n",
      "\u001b[0;32m<ipython-input-157-5cc2ce7e05f8>\u001b[0m in \u001b[0;36mtest\u001b[0;34m(model, device, test_loader)\u001b[0m\n\u001b[1;32m     82\u001b[0m \u001b[0;34m\u001b[0m\u001b[0m\n\u001b[1;32m     83\u001b[0m \u001b[0;34m\u001b[0m\u001b[0m\n\u001b[0;32m---> 84\u001b[0;31m             \u001b[0mpreds_test\u001b[0m\u001b[0;34m,\u001b[0m \u001b[0mhidden\u001b[0m \u001b[0;34m=\u001b[0m \u001b[0mmodel\u001b[0m\u001b[0;34m(\u001b[0m\u001b[0minputs\u001b[0m\u001b[0;34m)\u001b[0m\u001b[0;34m\u001b[0m\u001b[0;34m\u001b[0m\u001b[0m\n\u001b[0m\u001b[1;32m     85\u001b[0m             \u001b[0mloss\u001b[0m \u001b[0;34m=\u001b[0m \u001b[0mtorch\u001b[0m\u001b[0;34m.\u001b[0m\u001b[0msqrt\u001b[0m\u001b[0;34m(\u001b[0m\u001b[0mF\u001b[0m\u001b[0;34m.\u001b[0m\u001b[0mmse_loss\u001b[0m\u001b[0;34m(\u001b[0m\u001b[0mhidden\u001b[0m\u001b[0;34m[\u001b[0m\u001b[0;36m0\u001b[0m\u001b[0;34m]\u001b[0m\u001b[0;34m[\u001b[0m\u001b[0;36m0\u001b[0m\u001b[0;34m]\u001b[0m\u001b[0;34m,\u001b[0m\u001b[0moutputs\u001b[0m\u001b[0;34m)\u001b[0m\u001b[0;34m)\u001b[0m\u001b[0;34m\u001b[0m\u001b[0;34m\u001b[0m\u001b[0m\n\u001b[1;32m     86\u001b[0m             \u001b[0mtestLosses\u001b[0m\u001b[0;34m.\u001b[0m\u001b[0mappend\u001b[0m\u001b[0;34m(\u001b[0m\u001b[0mloss\u001b[0m\u001b[0;34m.\u001b[0m\u001b[0mitem\u001b[0m\u001b[0;34m(\u001b[0m\u001b[0;34m)\u001b[0m\u001b[0;34m)\u001b[0m\u001b[0;34m\u001b[0m\u001b[0;34m\u001b[0m\u001b[0m\n",
      "\u001b[0;32m~/anaconda3/lib/python3.7/site-packages/torch/nn/modules/module.py\u001b[0m in \u001b[0;36m_call_impl\u001b[0;34m(self, *input, **kwargs)\u001b[0m\n\u001b[1;32m    725\u001b[0m             \u001b[0mresult\u001b[0m \u001b[0;34m=\u001b[0m \u001b[0mself\u001b[0m\u001b[0;34m.\u001b[0m\u001b[0m_slow_forward\u001b[0m\u001b[0;34m(\u001b[0m\u001b[0;34m*\u001b[0m\u001b[0minput\u001b[0m\u001b[0;34m,\u001b[0m \u001b[0;34m**\u001b[0m\u001b[0mkwargs\u001b[0m\u001b[0;34m)\u001b[0m\u001b[0;34m\u001b[0m\u001b[0;34m\u001b[0m\u001b[0m\n\u001b[1;32m    726\u001b[0m         \u001b[0;32melse\u001b[0m\u001b[0;34m:\u001b[0m\u001b[0;34m\u001b[0m\u001b[0;34m\u001b[0m\u001b[0m\n\u001b[0;32m--> 727\u001b[0;31m             \u001b[0mresult\u001b[0m \u001b[0;34m=\u001b[0m \u001b[0mself\u001b[0m\u001b[0;34m.\u001b[0m\u001b[0mforward\u001b[0m\u001b[0;34m(\u001b[0m\u001b[0;34m*\u001b[0m\u001b[0minput\u001b[0m\u001b[0;34m,\u001b[0m \u001b[0;34m**\u001b[0m\u001b[0mkwargs\u001b[0m\u001b[0;34m)\u001b[0m\u001b[0;34m\u001b[0m\u001b[0;34m\u001b[0m\u001b[0m\n\u001b[0m\u001b[1;32m    728\u001b[0m         for hook in itertools.chain(\n\u001b[1;32m    729\u001b[0m                 \u001b[0m_global_forward_hooks\u001b[0m\u001b[0;34m.\u001b[0m\u001b[0mvalues\u001b[0m\u001b[0;34m(\u001b[0m\u001b[0;34m)\u001b[0m\u001b[0;34m,\u001b[0m\u001b[0;34m\u001b[0m\u001b[0;34m\u001b[0m\u001b[0m\n",
      "\u001b[0;32m<ipython-input-156-fcacc0133874>\u001b[0m in \u001b[0;36mforward\u001b[0;34m(self, x, hidden)\u001b[0m\n\u001b[1;32m     41\u001b[0m     \u001b[0mhidden\u001b[0m \u001b[0;34m=\u001b[0m \u001b[0mself\u001b[0m\u001b[0;34m.\u001b[0m\u001b[0mconv1\u001b[0m\u001b[0;34m(\u001b[0m\u001b[0mhidden\u001b[0m\u001b[0;34m[\u001b[0m\u001b[0;36m0\u001b[0m\u001b[0;34m]\u001b[0m\u001b[0;34m[\u001b[0m\u001b[0;36m0\u001b[0m\u001b[0;34m]\u001b[0m\u001b[0;34m)\u001b[0m\u001b[0;34m\u001b[0m\u001b[0;34m\u001b[0m\u001b[0m\n\u001b[1;32m     42\u001b[0m \u001b[0;34m\u001b[0m\u001b[0m\n\u001b[0;32m---> 43\u001b[0;31m     \u001b[0mhidden\u001b[0m \u001b[0;34m+=\u001b[0m \u001b[0mresidual\u001b[0m\u001b[0;34m\u001b[0m\u001b[0;34m\u001b[0m\u001b[0m\n\u001b[0m\u001b[1;32m     44\u001b[0m \u001b[0;34m\u001b[0m\u001b[0m\n\u001b[1;32m     45\u001b[0m     \u001b[0;32mreturn\u001b[0m \u001b[0mx\u001b[0m\u001b[0;34m,\u001b[0m \u001b[0mhidden\u001b[0m\u001b[0;34m\u001b[0m\u001b[0;34m\u001b[0m\u001b[0m\n",
      "\u001b[0;31mRuntimeError\u001b[0m: The size of tensor a (128) must match the size of tensor b (7) at non-singleton dimension 1"
     ]
    }
   ],
   "source": [
    "start_time = time.time()\n",
    "\n",
    "batchSize = 128\n",
    "\n",
    "trainloader = torch.utils.data.DataLoader(trainset, batch_size=batchSize,\n",
    "                                              shuffle=True)\n",
    "valloader = torch.utils.data.DataLoader(valset, batch_size=batchSize, \n",
    "                                            shuffle=True)\n",
    "testloader = torch.utils.data.DataLoader(testset, batch_size=batchSize,\n",
    "                                             shuffle=False)\n",
    "    \n",
    "\n",
    "model, device, histories, predictions = main(trainloader, valloader, testloader,\n",
    "                     BATCH_SIZE = batchSize, FEATURE_SIZE = 4, TEST_BATCH_SIZE = 128, \n",
    "                     EPOCHS = 120, LEARNING_RATE = 0.002, WEIGHT_DECAY = 0.0005, EXP_VER = '23')\n",
    "\n",
    "print(\"--- %s seconds ---\" % (time.time() - start_time))"
   ]
  },
  {
   "cell_type": "code",
   "execution_count": 145,
   "metadata": {},
   "outputs": [],
   "source": [
    "historyFile = '23' + '_history.pkl'\n",
    "losses = pickle.load(open(os.path.join(root, historyFile), 'rb'))"
   ]
  },
  {
   "cell_type": "code",
   "execution_count": 146,
   "metadata": {},
   "outputs": [],
   "source": [
    "trainLoss, valLoss, testLoss = zip(*losses)"
   ]
  },
  {
   "cell_type": "code",
   "execution_count": 147,
   "metadata": {
    "scrolled": true
   },
   "outputs": [
    {
     "data": {
      "text/plain": [
       "Text(0, 0.5, 'Mean-squared Error')"
      ]
     },
     "execution_count": 147,
     "metadata": {},
     "output_type": "execute_result"
    },
    {
     "data": {
      "image/png": "[encoded data removed]",
      "text/plain": [
       "<Figure size 864x504 with 1 Axes>"
      ]
     },
     "metadata": {
      "needs_background": "light"
     },
     "output_type": "display_data"
    }
   ],
   "source": [
    "fig, ax = plt.subplots(1,1, figsize=(12,7))\n",
    "\n",
    "epoch, loss = zip(*trainLoss)\n",
    "ax.plot(epoch[1:], loss[1:], label=\"Train\")\n",
    "epoch, loss = zip(*valLoss)\n",
    "ax.plot(epoch[0:], loss[0:], label=\"Validation\")\n",
    "\n",
    "ax.legend(fontsize=12)\n",
    "ax.set_title('Training and Validation Learning Curves', fontsize=16)\n",
    "ax.set_xlabel('Epoch', fontsize = 14)\n",
    "ax.set_ylabel('Mean-squared Error', fontsize=14)"
   ]
  },
  {
   "cell_type": "code",
   "execution_count": 148,
   "metadata": {},
   "outputs": [],
   "source": [
    "predictFile = '23' + '_predictions.pkl'\n",
    "predictions = pickle.load(open(os.path.join(root, predictFile), 'rb'))"
   ]
  },
  {
   "cell_type": "code",
   "execution_count": 149,
   "metadata": {},
   "outputs": [],
   "source": [
    "train, val, test = zip(*predictions)"
   ]
  },
  {
   "cell_type": "code",
   "execution_count": 150,
   "metadata": {},
   "outputs": [],
   "source": [
    "data = train[1][0][0]\n",
    "preds = train[1][1][0]"
   ]
  },
  {
   "cell_type": "code",
   "execution_count": 151,
   "metadata": {},
   "outputs": [
    {
     "data": {
      "text/plain": [
       "torch.Size([76, 8, 1, 11, 54])"
      ]
     },
     "execution_count": 151,
     "metadata": {},
     "output_type": "execute_result"
    }
   ],
   "source": [
    "data.shape"
   ]
  },
  {
   "cell_type": "code",
   "execution_count": 152,
   "metadata": {},
   "outputs": [
    {
     "data": {
      "text/plain": [
       "torch.Size([76, 1, 11, 54])"
      ]
     },
     "execution_count": 152,
     "metadata": {},
     "output_type": "execute_result"
    }
   ],
   "source": [
    "preds.shape"
   ]
  },
  {
   "cell_type": "code",
   "execution_count": 153,
   "metadata": {},
   "outputs": [],
   "source": [
    "tow = data[0,:,:,:].reshape(88,54)"
   ]
  },
  {
   "cell_type": "code",
   "execution_count": 154,
   "metadata": {},
   "outputs": [
    {
     "data": {
      "text/plain": [
       "<matplotlib.image.AxesImage at 0x7efc4c298150>"
      ]
     },
     "execution_count": 154,
     "metadata": {},
     "output_type": "execute_result"
    },
    {
     "data": {
      "image/png": "[encoded data removed]",
      "text/plain": [
       "<Figure size 432x288 with 1 Axes>"
      ]
     },
     "metadata": {
      "needs_background": "light"
     },
     "output_type": "display_data"
    }
   ],
   "source": [
    "plt.imshow(tow)"
   ]
  },
  {
   "cell_type": "code",
   "execution_count": 155,
   "metadata": {},
   "outputs": [
    {
     "data": {
      "text/plain": [
       "<matplotlib.image.AxesImage at 0x7efc4c24c390>"
      ]
     },
     "execution_count": 155,
     "metadata": {},
     "output_type": "execute_result"
    },
    {
     "data": {
      "image/png": "[encoded data removed]",
      "text/plain": [
       "<Figure size 432x288 with 1 Axes>"
      ]
     },
     "metadata": {
      "needs_background": "light"
     },
     "output_type": "display_data"
    }
   ],
   "source": [
    "plt.imshow(preds[0,:,:,:].cpu().detach().reshape(11,54))"
   ]
  },
  {
   "cell_type": "code",
   "execution_count": 161,
   "metadata": {},
   "outputs": [
    {
     "data": {
      "text/plain": [
       "torch.Size([76, 1, 11, 54])"
      ]
     },
     "execution_count": 161,
     "metadata": {},
     "output_type": "execute_result"
    }
   ],
   "source": [
    "preds.shape"
   ]
  },
  {
   "cell_type": "code",
   "execution_count": 18,
   "metadata": {},
   "outputs": [
    {
     "data": {
      "text/plain": [
       "<All keys matched successfully>"
      ]
     },
     "execution_count": 18,
     "metadata": {},
     "output_type": "execute_result"
    }
   ],
   "source": [
    "use_cuda = True\n",
    "device = torch.device(\"cuda\" if use_cuda else \"cpu\")\n",
    "PATH = root + '/22_state_dict_model.pt'\n",
    "model = ConvLSTMNet(inputChannels=1, featureSize=4).to(device)\n",
    "\n",
    "model.load_state_dict(torch.load(PATH))"
   ]
  },
  {
   "cell_type": "code",
   "execution_count": 20,
   "metadata": {},
   "outputs": [],
   "source": [
    "testloader = torch.utils.data.DataLoader(data, batch_size=1,\n",
    "                                             shuffle=False)"
   ]
  },
  {
   "cell_type": "code",
   "execution_count": 21,
   "metadata": {},
   "outputs": [
    {
     "name": "stderr",
     "output_type": "stream",
     "text": [
      "/home/olivia/anaconda3/lib/python3.7/site-packages/ipykernel_launcher.py:85: UserWarning: Using a target size (torch.Size([1, 1, 11, 54])) that is different to the input size (torch.Size([11, 54])). This will likely lead to incorrect results due to broadcasting. Please ensure they have the same size.\n"
     ]
    }
   ],
   "source": [
    "test_loss, testPredicts = test(model, device, testloader)"
   ]
  },
  {
   "cell_type": "code",
   "execution_count": 33,
   "metadata": {},
   "outputs": [],
   "source": [
    "data = testPredicts[1][0][0]\n",
    "preds = testPredicts[1][0]"
   ]
  },
  {
   "cell_type": "code",
   "execution_count": 34,
   "metadata": {},
   "outputs": [
    {
     "data": {
      "text/plain": [
       "torch.Size([1, 11, 54])"
      ]
     },
     "execution_count": 34,
     "metadata": {},
     "output_type": "execute_result"
    }
   ],
   "source": [
    "data.shape"
   ]
  },
  {
   "cell_type": "code",
   "execution_count": 35,
   "metadata": {},
   "outputs": [
    {
     "data": {
      "text/plain": [
       "torch.Size([1, 1, 11, 54])"
      ]
     },
     "execution_count": 35,
     "metadata": {},
     "output_type": "execute_result"
    }
   ],
   "source": [
    "preds.shape"
   ]
  },
  {
   "cell_type": "code",
   "execution_count": 36,
   "metadata": {},
   "outputs": [
    {
     "data": {
      "text/plain": [
       "<matplotlib.image.AxesImage at 0x7fbccd04dad0>"
      ]
     },
     "execution_count": 36,
     "metadata": {},
     "output_type": "execute_result"
    },
    {
     "data": {
      "image/png": "[encoded data removed]",
      "text/plain": [
       "<Figure size 432x288 with 1 Axes>"
      ]
     },
     "metadata": {
      "needs_background": "light"
     },
     "output_type": "display_data"
    }
   ],
   "source": [
    "plt.imshow(preds.cpu().detach().reshape(11,54))"
   ]
  },
  {
   "cell_type": "code",
   "execution_count": null,
   "metadata": {},
   "outputs": [],
   "source": []
  }
 ],
 "metadata": {
  "colab": {
   "collapsed_sections": [],
   "name": "DL_final.ipynb",
   "provenance": []
  },
  "kernelspec": {
   "display_name": "Python 3",
   "language": "python",
   "name": "python3"
  },
  "language_info": {
   "codemirror_mode": {
    "name": "ipython",
    "version": 3
   },
   "file_extension": ".py",
   "mimetype": "text/x-python",
   "name": "python",
   "nbconvert_exporter": "python",
   "pygments_lexer": "ipython3",
   "version": "3.7.6"
  }
 },
 "nbformat": 4,
 "nbformat_minor": 1
}
