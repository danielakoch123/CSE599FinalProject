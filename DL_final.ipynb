{
  "nbformat": 4,
  "nbformat_minor": 0,
  "metadata": {
    "colab": {
      "name": "DL_final.ipynb",
      "provenance": [],
      "collapsed_sections": []
    },
    "kernelspec": {
      "name": "python3",
      "display_name": "Python 3"
    }
  },
  "cells": [
    {
      "cell_type": "code",
      "metadata": {
        "id": "ooz-XR8JXf2R",
        "colab": {
          "base_uri": "https://localhost:8080/"
        },
        "outputId": "ff8d3274-6f23-4edf-808e-cd2c947d9b97"
      },
      "source": [
        "import numpy as np\n",
        "\n",
        "import torch\n",
        "import torch.nn as nn\n",
        "import torch.nn.functional as F\n",
        "import torchvision\n",
        "import matplotlib.pyplot as plt\n",
        "\n",
        "print('Version', torch.__version__) \n",
        "print('CUDA enabled:', torch.cuda.is_available())\n",
        "\n",
        "import os\n",
        "# Running this should then print out:\n",
        "# Version 1.7.0+cu101 (or something like this)\n",
        "# CUDA enabled: True"
      ],
      "execution_count": null,
      "outputs": [
        {
          "output_type": "stream",
          "text": [
            "Version 1.7.0+cu101\n",
            "CUDA enabled: False\n"
          ],
          "name": "stdout"
        }
      ]
    },
    {
      "cell_type": "markdown",
      "metadata": {
        "id": "ZmyRC-UUG5r9"
      },
      "source": [
        "## Access the dataset "
      ]
    },
    {
      "cell_type": "code",
      "metadata": {
        "id": "L9hhBEXYGpfX",
        "colab": {
          "base_uri": "https://localhost:8080/"
        },
        "outputId": "3cdb62f2-c0ad-43ff-d87a-fc89512fce96"
      },
      "source": [
        "from google.colab import drive\n",
        "drive.mount('/content/drive/')\n",
        "#!ls /drive"
      ],
      "execution_count": null,
      "outputs": [
        {
          "output_type": "stream",
          "text": [
            "Mounted at /content/drive/\n"
          ],
          "name": "stdout"
        }
      ]
    },
    {
      "cell_type": "code",
      "metadata": {
        "id": "tIrFl12F3aCp"
      },
      "source": [
        "root = \"/content/drive/MyDrive/AskaData/AskaData1/aska3bN/cell_small/\""
      ],
      "execution_count": null,
      "outputs": []
    },
    {
      "cell_type": "markdown",
      "metadata": {
        "id": "6wIcF0FT5dTp"
      },
      "source": [
        "## Prepare the data"
      ]
    },
    {
      "cell_type": "markdown",
      "metadata": {
        "id": "VTukoNRcE1tl"
      },
      "source": [
        "Example of cell image"
      ]
    },
    {
      "cell_type": "code",
      "metadata": {
        "colab": {
          "base_uri": "https://localhost:8080/",
          "height": 341
        },
        "id": "U6Em4FMx5ff1",
        "outputId": "325b3bd9-9fa1-4fc5-ce61-ef055a9cbf7d"
      },
      "source": [
        "im = plt.imread('Cell0000526_frame_2.png')\n",
        "plt.imshow(im)"
      ],
      "execution_count": null,
      "outputs": [
        {
          "output_type": "error",
          "ename": "FileNotFoundError",
          "evalue": "ignored",
          "traceback": [
            "\u001b[0;31m---------------------------------------------------------------------------\u001b[0m",
            "\u001b[0;31mFileNotFoundError\u001b[0m                         Traceback (most recent call last)",
            "\u001b[0;32m<ipython-input-5-fff3acf85790>\u001b[0m in \u001b[0;36m<module>\u001b[0;34m()\u001b[0m\n\u001b[0;32m----> 1\u001b[0;31m \u001b[0mim\u001b[0m \u001b[0;34m=\u001b[0m \u001b[0mplt\u001b[0m\u001b[0;34m.\u001b[0m\u001b[0mimread\u001b[0m\u001b[0;34m(\u001b[0m\u001b[0;34m'Cell0000526_frame_2.png'\u001b[0m\u001b[0;34m)\u001b[0m\u001b[0;34m\u001b[0m\u001b[0;34m\u001b[0m\u001b[0m\n\u001b[0m\u001b[1;32m      2\u001b[0m \u001b[0mplt\u001b[0m\u001b[0;34m.\u001b[0m\u001b[0mimshow\u001b[0m\u001b[0;34m(\u001b[0m\u001b[0mim\u001b[0m\u001b[0;34m)\u001b[0m\u001b[0;34m\u001b[0m\u001b[0;34m\u001b[0m\u001b[0m\n",
            "\u001b[0;32m/usr/local/lib/python3.6/dist-packages/matplotlib/pyplot.py\u001b[0m in \u001b[0;36mimread\u001b[0;34m(fname, format)\u001b[0m\n\u001b[1;32m   2059\u001b[0m \u001b[0;34m@\u001b[0m\u001b[0mdocstring\u001b[0m\u001b[0;34m.\u001b[0m\u001b[0mcopy\u001b[0m\u001b[0;34m(\u001b[0m\u001b[0mmatplotlib\u001b[0m\u001b[0;34m.\u001b[0m\u001b[0mimage\u001b[0m\u001b[0;34m.\u001b[0m\u001b[0mimread\u001b[0m\u001b[0;34m)\u001b[0m\u001b[0;34m\u001b[0m\u001b[0;34m\u001b[0m\u001b[0m\n\u001b[1;32m   2060\u001b[0m \u001b[0;32mdef\u001b[0m \u001b[0mimread\u001b[0m\u001b[0;34m(\u001b[0m\u001b[0mfname\u001b[0m\u001b[0;34m,\u001b[0m \u001b[0mformat\u001b[0m\u001b[0;34m=\u001b[0m\u001b[0;32mNone\u001b[0m\u001b[0;34m)\u001b[0m\u001b[0;34m:\u001b[0m\u001b[0;34m\u001b[0m\u001b[0;34m\u001b[0m\u001b[0m\n\u001b[0;32m-> 2061\u001b[0;31m     \u001b[0;32mreturn\u001b[0m \u001b[0mmatplotlib\u001b[0m\u001b[0;34m.\u001b[0m\u001b[0mimage\u001b[0m\u001b[0;34m.\u001b[0m\u001b[0mimread\u001b[0m\u001b[0;34m(\u001b[0m\u001b[0mfname\u001b[0m\u001b[0;34m,\u001b[0m \u001b[0mformat\u001b[0m\u001b[0;34m)\u001b[0m\u001b[0;34m\u001b[0m\u001b[0;34m\u001b[0m\u001b[0m\n\u001b[0m\u001b[1;32m   2062\u001b[0m \u001b[0;34m\u001b[0m\u001b[0m\n\u001b[1;32m   2063\u001b[0m \u001b[0;34m\u001b[0m\u001b[0m\n",
            "\u001b[0;32m/usr/local/lib/python3.6/dist-packages/matplotlib/image.py\u001b[0m in \u001b[0;36mimread\u001b[0;34m(fname, format)\u001b[0m\n\u001b[1;32m   1472\u001b[0m             \u001b[0mfd\u001b[0m \u001b[0;34m=\u001b[0m \u001b[0mBytesIO\u001b[0m\u001b[0;34m(\u001b[0m\u001b[0mrequest\u001b[0m\u001b[0;34m.\u001b[0m\u001b[0murlopen\u001b[0m\u001b[0;34m(\u001b[0m\u001b[0mfname\u001b[0m\u001b[0;34m)\u001b[0m\u001b[0;34m.\u001b[0m\u001b[0mread\u001b[0m\u001b[0;34m(\u001b[0m\u001b[0;34m)\u001b[0m\u001b[0;34m)\u001b[0m\u001b[0;34m\u001b[0m\u001b[0;34m\u001b[0m\u001b[0m\n\u001b[1;32m   1473\u001b[0m             \u001b[0;32mreturn\u001b[0m \u001b[0m_png\u001b[0m\u001b[0;34m.\u001b[0m\u001b[0mread_png\u001b[0m\u001b[0;34m(\u001b[0m\u001b[0mfd\u001b[0m\u001b[0;34m)\u001b[0m\u001b[0;34m\u001b[0m\u001b[0;34m\u001b[0m\u001b[0m\n\u001b[0;32m-> 1474\u001b[0;31m     \u001b[0;32mwith\u001b[0m \u001b[0mcbook\u001b[0m\u001b[0;34m.\u001b[0m\u001b[0mopen_file_cm\u001b[0m\u001b[0;34m(\u001b[0m\u001b[0mfname\u001b[0m\u001b[0;34m,\u001b[0m \u001b[0;34m\"rb\"\u001b[0m\u001b[0;34m)\u001b[0m \u001b[0;32mas\u001b[0m \u001b[0mfile\u001b[0m\u001b[0;34m:\u001b[0m\u001b[0;34m\u001b[0m\u001b[0;34m\u001b[0m\u001b[0m\n\u001b[0m\u001b[1;32m   1475\u001b[0m         \u001b[0;32mreturn\u001b[0m \u001b[0m_png\u001b[0m\u001b[0;34m.\u001b[0m\u001b[0mread_png\u001b[0m\u001b[0;34m(\u001b[0m\u001b[0mfile\u001b[0m\u001b[0;34m)\u001b[0m\u001b[0;34m\u001b[0m\u001b[0;34m\u001b[0m\u001b[0m\n\u001b[1;32m   1476\u001b[0m \u001b[0;34m\u001b[0m\u001b[0m\n",
            "\u001b[0;32m/usr/lib/python3.6/contextlib.py\u001b[0m in \u001b[0;36m__enter__\u001b[0;34m(self)\u001b[0m\n\u001b[1;32m     79\u001b[0m     \u001b[0;32mdef\u001b[0m \u001b[0m__enter__\u001b[0m\u001b[0;34m(\u001b[0m\u001b[0mself\u001b[0m\u001b[0;34m)\u001b[0m\u001b[0;34m:\u001b[0m\u001b[0;34m\u001b[0m\u001b[0;34m\u001b[0m\u001b[0m\n\u001b[1;32m     80\u001b[0m         \u001b[0;32mtry\u001b[0m\u001b[0;34m:\u001b[0m\u001b[0;34m\u001b[0m\u001b[0;34m\u001b[0m\u001b[0m\n\u001b[0;32m---> 81\u001b[0;31m             \u001b[0;32mreturn\u001b[0m \u001b[0mnext\u001b[0m\u001b[0;34m(\u001b[0m\u001b[0mself\u001b[0m\u001b[0;34m.\u001b[0m\u001b[0mgen\u001b[0m\u001b[0;34m)\u001b[0m\u001b[0;34m\u001b[0m\u001b[0;34m\u001b[0m\u001b[0m\n\u001b[0m\u001b[1;32m     82\u001b[0m         \u001b[0;32mexcept\u001b[0m \u001b[0mStopIteration\u001b[0m\u001b[0;34m:\u001b[0m\u001b[0;34m\u001b[0m\u001b[0;34m\u001b[0m\u001b[0m\n\u001b[1;32m     83\u001b[0m             \u001b[0;32mraise\u001b[0m \u001b[0mRuntimeError\u001b[0m\u001b[0;34m(\u001b[0m\u001b[0;34m\"generator didn't yield\"\u001b[0m\u001b[0;34m)\u001b[0m \u001b[0;32mfrom\u001b[0m \u001b[0;32mNone\u001b[0m\u001b[0;34m\u001b[0m\u001b[0;34m\u001b[0m\u001b[0m\n",
            "\u001b[0;32m/usr/local/lib/python3.6/dist-packages/matplotlib/cbook/__init__.py\u001b[0m in \u001b[0;36mopen_file_cm\u001b[0;34m(path_or_file, mode, encoding)\u001b[0m\n\u001b[1;32m    416\u001b[0m \u001b[0;32mdef\u001b[0m \u001b[0mopen_file_cm\u001b[0m\u001b[0;34m(\u001b[0m\u001b[0mpath_or_file\u001b[0m\u001b[0;34m,\u001b[0m \u001b[0mmode\u001b[0m\u001b[0;34m=\u001b[0m\u001b[0;34m\"r\"\u001b[0m\u001b[0;34m,\u001b[0m \u001b[0mencoding\u001b[0m\u001b[0;34m=\u001b[0m\u001b[0;32mNone\u001b[0m\u001b[0;34m)\u001b[0m\u001b[0;34m:\u001b[0m\u001b[0;34m\u001b[0m\u001b[0;34m\u001b[0m\u001b[0m\n\u001b[1;32m    417\u001b[0m     \u001b[0;34mr\"\"\"Pass through file objects and context-manage `.PathLike`\\s.\"\"\"\u001b[0m\u001b[0;34m\u001b[0m\u001b[0;34m\u001b[0m\u001b[0m\n\u001b[0;32m--> 418\u001b[0;31m     \u001b[0mfh\u001b[0m\u001b[0;34m,\u001b[0m \u001b[0mopened\u001b[0m \u001b[0;34m=\u001b[0m \u001b[0mto_filehandle\u001b[0m\u001b[0;34m(\u001b[0m\u001b[0mpath_or_file\u001b[0m\u001b[0;34m,\u001b[0m \u001b[0mmode\u001b[0m\u001b[0;34m,\u001b[0m \u001b[0;32mTrue\u001b[0m\u001b[0;34m,\u001b[0m \u001b[0mencoding\u001b[0m\u001b[0;34m)\u001b[0m\u001b[0;34m\u001b[0m\u001b[0;34m\u001b[0m\u001b[0m\n\u001b[0m\u001b[1;32m    419\u001b[0m     \u001b[0;32mif\u001b[0m \u001b[0mopened\u001b[0m\u001b[0;34m:\u001b[0m\u001b[0;34m\u001b[0m\u001b[0;34m\u001b[0m\u001b[0m\n\u001b[1;32m    420\u001b[0m         \u001b[0;32mwith\u001b[0m \u001b[0mfh\u001b[0m\u001b[0;34m:\u001b[0m\u001b[0;34m\u001b[0m\u001b[0;34m\u001b[0m\u001b[0m\n",
            "\u001b[0;32m/usr/local/lib/python3.6/dist-packages/matplotlib/cbook/__init__.py\u001b[0m in \u001b[0;36mto_filehandle\u001b[0;34m(fname, flag, return_opened, encoding)\u001b[0m\n\u001b[1;32m    401\u001b[0m             \u001b[0mfh\u001b[0m \u001b[0;34m=\u001b[0m \u001b[0mbz2\u001b[0m\u001b[0;34m.\u001b[0m\u001b[0mBZ2File\u001b[0m\u001b[0;34m(\u001b[0m\u001b[0mfname\u001b[0m\u001b[0;34m,\u001b[0m \u001b[0mflag\u001b[0m\u001b[0;34m)\u001b[0m\u001b[0;34m\u001b[0m\u001b[0;34m\u001b[0m\u001b[0m\n\u001b[1;32m    402\u001b[0m         \u001b[0;32melse\u001b[0m\u001b[0;34m:\u001b[0m\u001b[0;34m\u001b[0m\u001b[0;34m\u001b[0m\u001b[0m\n\u001b[0;32m--> 403\u001b[0;31m             \u001b[0mfh\u001b[0m \u001b[0;34m=\u001b[0m \u001b[0mopen\u001b[0m\u001b[0;34m(\u001b[0m\u001b[0mfname\u001b[0m\u001b[0;34m,\u001b[0m \u001b[0mflag\u001b[0m\u001b[0;34m,\u001b[0m \u001b[0mencoding\u001b[0m\u001b[0;34m=\u001b[0m\u001b[0mencoding\u001b[0m\u001b[0;34m)\u001b[0m\u001b[0;34m\u001b[0m\u001b[0;34m\u001b[0m\u001b[0m\n\u001b[0m\u001b[1;32m    404\u001b[0m         \u001b[0mopened\u001b[0m \u001b[0;34m=\u001b[0m \u001b[0;32mTrue\u001b[0m\u001b[0;34m\u001b[0m\u001b[0;34m\u001b[0m\u001b[0m\n\u001b[1;32m    405\u001b[0m     \u001b[0;32melif\u001b[0m \u001b[0mhasattr\u001b[0m\u001b[0;34m(\u001b[0m\u001b[0mfname\u001b[0m\u001b[0;34m,\u001b[0m \u001b[0;34m'seek'\u001b[0m\u001b[0;34m)\u001b[0m\u001b[0;34m:\u001b[0m\u001b[0;34m\u001b[0m\u001b[0;34m\u001b[0m\u001b[0m\n",
            "\u001b[0;31mFileNotFoundError\u001b[0m: [Errno 2] No such file or directory: 'Cell0000526_frame_2.png'"
          ]
        }
      ]
    },
    {
      "cell_type": "code",
      "metadata": {
        "colab": {
          "base_uri": "https://localhost:8080/"
        },
        "id": "K9bxnpfzho0-",
        "outputId": "9d61c72a-bbe6-493d-c837-118b46cdef61"
      },
      "source": [
        "im.shape"
      ],
      "execution_count": null,
      "outputs": [
        {
          "output_type": "execute_result",
          "data": {
            "text/plain": [
              "(11, 31)"
            ]
          },
          "metadata": {
            "tags": []
          },
          "execution_count": 104
        }
      ]
    },
    {
      "cell_type": "markdown",
      "metadata": {
        "id": "liLv4zFdE_us"
      },
      "source": [
        "**Inputs into convolutional LSTM are shaped:**\n",
        "\n",
        "**tensor of size B, T, C, H, W or T, B, C, H, W**\n",
        "\n",
        "B = batch\n",
        "\n",
        "T = timestep\n",
        "\n",
        "C = channels\n",
        "\n",
        "H = heights\n",
        "\n",
        "W = width \n",
        "\n",
        "We are currently thinking we do not have to pad the images. "
      ]
    },
    {
      "cell_type": "code",
      "metadata": {
        "id": "qqKnu3oYJmoy"
      },
      "source": [
        "import imageio"
      ],
      "execution_count": null,
      "outputs": []
    },
    {
      "cell_type": "code",
      "metadata": {
        "id": "AWt7ssA0E52O"
      },
      "source": [
        "#Iterates over all of the files, but does not retain order\n",
        "\n",
        "#Want to imread, turn into tensor, stack each image in the correct order of the tower\n",
        "#Then want to stack each tower together\n",
        "tower1 = torch.zeros(1,8,11,54)\n",
        "data = []\n",
        "\n",
        "for subdir, dirs, files in os.walk(root):\n",
        "  tower = [None] * 8\n",
        "  for file in files:\n",
        "    #print(os.path.join(subdir, file))\n",
        "    im = torch.LongTensor(imageio.imread(os.path.join(subdir, file)))\n",
        "\n",
        "    #Padding\n",
        "    p = (54 - im.shape[1])//2\n",
        "    r = (54 - im.shape[1])%2\n",
        "    m = nn.ConstantPad1d(padding=(p + r, p), value=0)\n",
        "    im = m(im)\n",
        "    \n",
        "    try:\n",
        "      i = int(os.path.join(subdir, file)[-5])\n",
        "      tower[i - 1] = im\n",
        "    except:\n",
        "      pass\n",
        "\n",
        "  if tower[0] != None:\n",
        "    #Convert list (tower) of cells into tensor\n",
        "    tower = torch.stack(tower, dim=0)\n",
        "    data.append(tower)"
      ],
      "execution_count": null,
      "outputs": []
    },
    {
      "cell_type": "markdown",
      "metadata": {
        "id": "jjHV5SIjzsQ9"
      },
      "source": [
        "Defining the dataloaders "
      ]
    },
    {
      "cell_type": "code",
      "metadata": {
        "id": "2IbfBbP1qdrT"
      },
      "source": [
        "n = len(data)\n",
        "trainLength = (n//5)*4\n",
        "testLength = n - trainLength\n",
        "\n",
        "trainset, testset = torch.utils.data.random_split(data, [trainLength, testLength], \n",
        "                                                  generator=torch.Generator().manual_seed(42))\n",
        "'''\n",
        "d = trainLength\n",
        "trainLength = (d//5)*4\n",
        "valLength = d - trainLength\n",
        "'''\n",
        "# Lengths for the cell_small \n",
        "trainLength = 2\n",
        "valLength = 2\n",
        "\n",
        "trainset, valset = torch.utils.data.random_split(trainset, [trainLength, valLength], \n",
        "                                                  generator=torch.Generator().manual_seed(42))\n",
        "\n",
        "trainloader = torch.utils.data.DataLoader(trainset, batch_size=64,\n",
        "                                          shuffle=True)\n",
        "valloader = torch.utils.data.DataLoader(valset, batch_size=64, \n",
        "                                        shuffle=True)\n",
        "testloader = torch.utils.data.DataLoader(testset, batch_size=64,\n",
        "                                         shuffle=False)"
      ],
      "execution_count": null,
      "outputs": []
    },
    {
      "cell_type": "markdown",
      "metadata": {
        "id": "wLoGqmCkYtVa"
      },
      "source": [
        "## Defining the network"
      ]
    },
    {
      "cell_type": "markdown",
      "metadata": {
        "id": "LeC19ijmn6NV"
      },
      "source": [
        "### Convolutional LSTM \n",
        "Adapted from [ndrplz](https://raw.githubusercontent.com/ndrplz/ConvLSTM_pytorch/master/convlstm.py)."
      ]
    },
    {
      "cell_type": "code",
      "metadata": {
        "id": "A-v9LrxSno3x"
      },
      "source": [
        "class ConvLSTMCell(nn.Module):\n",
        "\n",
        "    def __init__(self, input_dim, hidden_dim, kernel_size, bias):\n",
        "        \"\"\"\n",
        "        Initialize ConvLSTM cell.\n",
        "\n",
        "        Parameters\n",
        "        ----------\n",
        "        input_dim: int\n",
        "            Number of channels of input tensor.\n",
        "        hidden_dim: int\n",
        "            Number of channels of hidden state.\n",
        "        kernel_size: (int, int)\n",
        "            Size of the convolutional kernel.\n",
        "        bias: bool\n",
        "            Whether or not to add the bias.\n",
        "        \"\"\"\n",
        "\n",
        "        super(ConvLSTMCell, self).__init__()\n",
        "\n",
        "        self.input_dim = input_dim\n",
        "        self.hidden_dim = hidden_dim\n",
        "\n",
        "        self.kernel_size = kernel_size\n",
        "        self.padding = kernel_size[0] // 2, kernel_size[1] // 2\n",
        "        self.bias = bias\n",
        "\n",
        "        self.conv = nn.Conv2d(in_channels=self.input_dim + self.hidden_dim,\n",
        "                              out_channels=4 * self.hidden_dim,\n",
        "                              kernel_size=self.kernel_size,\n",
        "                              padding=self.padding,\n",
        "                              bias=self.bias)\n",
        "\n",
        "    def forward(self, input_tensor, cur_state):\n",
        "        h_cur, c_cur = cur_state\n",
        "\n",
        "        combined = torch.cat([input_tensor, h_cur], dim=1)  # concatenate along channel axis\n",
        "\n",
        "        combined_conv = self.conv(combined)\n",
        "        cc_i, cc_f, cc_o, cc_g = torch.split(combined_conv, self.hidden_dim, dim=1)\n",
        "        i = torch.sigmoid(cc_i)\n",
        "        f = torch.sigmoid(cc_f)\n",
        "        o = torch.sigmoid(cc_o)\n",
        "        g = torch.tanh(cc_g)\n",
        "\n",
        "        c_next = f * c_cur + i * g\n",
        "        h_next = o * torch.tanh(c_next)\n",
        "\n",
        "        return h_next, c_next\n",
        "\n",
        "    def init_hidden(self, batch_size, image_size):\n",
        "        height, width = image_size\n",
        "        return (torch.zeros(batch_size, self.hidden_dim, height, width, device=self.conv.weight.device),\n",
        "                torch.zeros(batch_size, self.hidden_dim, height, width, device=self.conv.weight.device))\n",
        "\n",
        "\n",
        "class ConvLSTM(nn.Module):\n",
        "\n",
        "    \"\"\"\n",
        "\n",
        "    Parameters:\n",
        "        input_dim: Number of channels in input\n",
        "        hidden_dim: Number of hidden channels\n",
        "        kernel_size: Size of kernel in convolutions\n",
        "        num_layers: Number of LSTM layers stacked on each other\n",
        "        batch_first: Whether or not dimension 0 is the batch or not\n",
        "        bias: Bias or no bias in Convolution\n",
        "        return_all_layers: Return the list of computations for all layers\n",
        "        Note: Will do same padding.\n",
        "\n",
        "    Input:\n",
        "        A tensor of size B, T, C, H, W or T, B, C, H, W\n",
        "    Output:\n",
        "        A tuple of two lists of length num_layers (or length 1 if return_all_layers is False).\n",
        "            0 - layer_output_list is the list of lists of length T of each output\n",
        "            1 - last_state_list is the list of last states\n",
        "                    each element of the list is a tuple (h, c) for hidden state and memory\n",
        "    Example:\n",
        "        >> x = torch.rand((32, 10, 64, 128, 128))\n",
        "        >> convlstm = ConvLSTM(64, 16, 3, 1, True, True, False)\n",
        "        >> _, last_states = convlstm(x)\n",
        "        >> h = last_states[0][0]  # 0 for layer index, 0 for h index\n",
        "    \"\"\"\n",
        "\n",
        "    def __init__(self, input_dim, hidden_dim, kernel_size, num_layers,\n",
        "                 batch_first=False, bias=True, return_all_layers=False):\n",
        "        super(ConvLSTM, self).__init__()\n",
        "\n",
        "        self._check_kernel_size_consistency(kernel_size)\n",
        "\n",
        "        # Make sure that both `kernel_size` and `hidden_dim` are lists having len == num_layers\n",
        "        kernel_size = self._extend_for_multilayer(kernel_size, num_layers)\n",
        "        hidden_dim = self._extend_for_multilayer(hidden_dim, num_layers)\n",
        "        if not len(kernel_size) == len(hidden_dim) == num_layers:\n",
        "            raise ValueError('Inconsistent list length.')\n",
        "\n",
        "        self.input_dim = input_dim\n",
        "        self.hidden_dim = hidden_dim\n",
        "        self.kernel_size = kernel_size\n",
        "        self.num_layers = num_layers\n",
        "        self.batch_first = batch_first\n",
        "        self.bias = bias\n",
        "        self.return_all_layers = return_all_layers\n",
        "\n",
        "        cell_list = []\n",
        "        for i in range(0, self.num_layers):\n",
        "            cur_input_dim = self.input_dim if i == 0 else self.hidden_dim[i - 1]\n",
        "\n",
        "            cell_list.append(ConvLSTMCell(input_dim=cur_input_dim,\n",
        "                                          hidden_dim=self.hidden_dim[i],\n",
        "                                          kernel_size=self.kernel_size[i],\n",
        "                                          bias=self.bias))\n",
        "\n",
        "        self.cell_list = nn.ModuleList(cell_list)\n",
        "\n",
        "    def forward(self, input_tensor, hidden_state=None):\n",
        "        \"\"\"\n",
        "\n",
        "        Parameters\n",
        "        ----------\n",
        "        input_tensor: todo\n",
        "            5-D Tensor either of shape (t, b, c, h, w) or (b, t, c, h, w)\n",
        "        hidden_state: todo\n",
        "            None. todo implement stateful\n",
        "\n",
        "        Returns\n",
        "        -------\n",
        "        last_state_list, layer_output\n",
        "        \"\"\"\n",
        "        if not self.batch_first:\n",
        "            # (t, b, c, h, w) -> (b, t, c, h, w)\n",
        "            input_tensor = input_tensor.permute(1, 0, 2, 3, 4)\n",
        "\n",
        "        b, _, _, h, w = input_tensor.size()\n",
        "\n",
        "        # Implement stateful ConvLSTM\n",
        "        if hidden_state is not None:\n",
        "            raise NotImplementedError()\n",
        "        else:\n",
        "            # Since the init is done in forward. Can send image size here\n",
        "            hidden_state = self._init_hidden(batch_size=b,\n",
        "                                             image_size=(h, w))\n",
        "\n",
        "        layer_output_list = []\n",
        "        last_state_list = []\n",
        "\n",
        "        seq_len = input_tensor.size(1)\n",
        "        cur_layer_input = input_tensor\n",
        "\n",
        "        for layer_idx in range(self.num_layers):\n",
        "\n",
        "            h, c = hidden_state[layer_idx]\n",
        "            output_inner = []\n",
        "            for t in range(seq_len):\n",
        "                h, c = self.cell_list[layer_idx](input_tensor=cur_layer_input[:, t, :, :, :],\n",
        "                                                 cur_state=[h, c])\n",
        "                output_inner.append(h)\n",
        "\n",
        "            layer_output = torch.stack(output_inner, dim=1)\n",
        "            cur_layer_input = layer_output\n",
        "\n",
        "            layer_output_list.append(layer_output)\n",
        "            last_state_list.append([h, c])\n",
        "\n",
        "        if not self.return_all_layers:\n",
        "            layer_output_list = layer_output_list[-1:]\n",
        "            last_state_list = last_state_list[-1:]\n",
        "\n",
        "        return layer_output_list, last_state_list\n",
        "\n",
        "    def _init_hidden(self, batch_size, image_size):\n",
        "        init_states = []\n",
        "        for i in range(self.num_layers):\n",
        "            init_states.append(self.cell_list[i].init_hidden(batch_size, image_size))\n",
        "        return init_states\n",
        "\n",
        "    @staticmethod\n",
        "    def _check_kernel_size_consistency(kernel_size):\n",
        "        if not (isinstance(kernel_size, tuple) or\n",
        "                (isinstance(kernel_size, list) and all([isinstance(elem, tuple) for elem in kernel_size]))):\n",
        "            raise ValueError('`kernel_size` must be tuple or list of tuples')\n",
        "\n",
        "    @staticmethod\n",
        "    def _extend_for_multilayer(param, num_layers):\n",
        "        if not isinstance(param, list):\n",
        "            param = [param] * num_layers\n",
        "        return param"
      ],
      "execution_count": null,
      "outputs": []
    },
    {
      "cell_type": "markdown",
      "metadata": {
        "id": "PQsbYinn1O8b"
      },
      "source": [
        "### ConvLSTMNet\n",
        "Simple model with single convolution LSTM layer. Using this model as a baseline before we add in more convolutional layers and residual connections. "
      ]
    },
    {
      "cell_type": "code",
      "metadata": {
        "id": "Yqt5npiJYtBe"
      },
      "source": [
        "class ConvLSTMNet(nn.Module):\n",
        "  def __init__(self, inputChannels, featureSize):\n",
        "    super(ConvLSTMNet, self).__init__()\n",
        "\n",
        "    self.c = inputChannels\n",
        "    #self.p = numProteins\n",
        "    self.featureSize = featureSize\n",
        "\n",
        "    #ConvLSTM uses convolutional operations rather than regular matrix operations\n",
        "    self.convLSTM = ConvLSTM(input_dim=1, hidden_dim=self.featureSize, kernel_size=[(3,3)], num_layers=1)\n",
        "    #self.classify = nn.Linear(in_features=self.featureSize, out_features=self.p)\n",
        "\n",
        "\n",
        "  def forward(x, hidden=None):\n",
        "    \"\"\"\n",
        "    Takes in a batch of data (N, T, 12, 56). Data are sequences of images. The batch is a tensor\n",
        "    with dimensions N: batch size, 56: width of image, 12: height of image, T: number of timesteps.\n",
        "    Returns a tensor of shape (N, 1, 12, 56) which is the predicted next frame in the sequence.\n",
        "    Also returns an encoded label indicating which protein type the sequence contains. \n",
        "        \n",
        "    :param batch: Tensor of shape (N, T, 12, 56) Batch of time series frames. Dimensions: N \n",
        "    (number of samples) by 56 (width of image) by 12 (height of image) by T (number of timesteps). \n",
        "\n",
        "    HAVE NOT IMPLEMENTED THIS YET(\n",
        "    :return prediction: Tensor of shape (N, 1, 12, 56). Dimensions: N (number of samples) by \n",
        "    56 (width of image) by 12 (height of image) by 1 (number of timesteps in the future). \n",
        "    )\n",
        "\n",
        "    :return label: Tensor of shape (N, p). Dimensions: N (number of samples) by p (number of \n",
        "    protein types).\n",
        "    \"\"\"\n",
        "\n",
        "    x, hidden = self.convLSTM(x, hidden)\n",
        "\n",
        "    return x, hidden\n",
        "\n",
        "  def inference(self, x, hidden=None, temperature=1):\n",
        "    x = x.view(-1, 1)\n",
        "    x, hidden_state = self.forward(x, hidden)\n",
        "    x = x.view(1, -1)\n",
        "    x = x / max(temperature, 1e-20)\n",
        "    x = F.softmax(x, dim=1)\n",
        "    return x, hidden\n",
        "\n",
        "  def loss(self, prediction, label, reduction='mean'):\n",
        "    loss_val = F.cross_entropy(prediction.view(-1, self.p), label.view(-1), reduction=reduction)\n",
        "    return loss_val\n",
        "\n",
        "  # Saves the current model\n",
        "  def save_model(self, file_path, num_to_keep=1):\n",
        "    pt_util.save(self, file_path, num_to_keep)\n",
        "\n",
        "  # Saves the best model so far\n",
        "  def save_best_model(self, accuracy, file_path, num_to_keep=1):\n",
        "    if accuracy > self.best_accuracy:\n",
        "      self.save_model(file_path, num_to_keep)\n",
        "      self.best_accuracy = accuracy\n",
        "\n",
        "  def load_model(self, file_path):\n",
        "    pt_util.restore(self, file_path)\n",
        "\n",
        "  def load_last_model(self, dir_path):\n",
        "    return pt_util.restore_latest(self, dir_path)\n",
        "  "
      ],
      "execution_count": null,
      "outputs": []
    },
    {
      "cell_type": "markdown",
      "metadata": {
        "id": "nvoXlIkk1e-A"
      },
      "source": [
        "### EcoliNet\n",
        "\n",
        "Implements ConvLSTM as well as more convolutional layers and residual connections. "
      ]
    },
    {
      "cell_type": "code",
      "metadata": {
        "id": "qxTA2FbN1D2p"
      },
      "source": [
        "class EcoliNet(nn.Module):\n",
        "  def __init__(self, inputChannels, numProteins, featureSize):\n",
        "    super(EcoliNet, self).__init__()\n",
        "\n",
        "    self.c = inputChannels\n",
        "    self.p = numProteins\n",
        "    self.featureSize = featureSize\n",
        "\n",
        "    #Conv3D takes in inputs of (N,C,D,H,W)\n",
        "    #   N: batch size\n",
        "    #   C: number of channels\n",
        "    #   D: number of frames\n",
        "    #   H: height of image\n",
        "    #   W: width of image \n",
        "\n",
        "    self.conv1 = nn.Conv3d(in_channels=self.c, out_channels=3, kernel_size=3, stride=1, padding=1)\n",
        "    self.conv2 = nn.Conv3d(in_channels=3, out_channels=9, kernel_size=3, stride=1, padding=1)\n",
        "    self.conv3 = nn.Conv3d(in_channels=9, out_channels=27, kernel_size=3, stride=1, padding=1)\n",
        "\n",
        "    self.bn1 = nn.BatchNorm3d(num_features=3)\n",
        "    self.bn2 = nn.BatchNorm3d(num_features=9)\n",
        "    self.bn3 = nn.BatchNorm3d(num_features=27)\n",
        "\n",
        "    #ConvLSTM uses convolutional operations rather than regular matrix operations\n",
        "    self.convLSTM = ConvLSTM(input_dim=27, hidden_dim=self.featureSize, kernel_size=3)\n",
        "\n",
        "    self.classify = nn.Linear(in_features=self.featureSize, out_features=self.p)\n",
        "\n",
        "\n",
        "  def forward(batch, hidden=None):\n",
        "    \"\"\"\n",
        "    Takes in a batch of data (N, T, 12, 56). Data are sequences of images. The batch is a tensor\n",
        "    with dimensions N: batch size, 56: width of image, 12: height of image, T: number of timesteps.\n",
        "    Returns a tensor of shape (N, 1, 12, 56) which is the predicted next frame in the sequence.\n",
        "    Also returns an encoded label indicating which protein type the sequence contains. \n",
        "        \n",
        "    :param batch: Tensor of shape (N, T, 12, 56) Batch of time series frames. Dimensions: N \n",
        "    (number of samples) by 56 (width of image) by 12 (height of image) by T (number of timesteps). \n",
        "\n",
        "    :return predication: Tensor of shape (N, 1, 12, 56). Dimensions: N (number of samples) by \n",
        "    56 (width of image) by 12 (height of image) by 1 (number of timesteps in the future). \n",
        "\n",
        "    :return label: Tensor of shape (N, p). Dimensions: N (number of samples) by p (number of \n",
        "    protein types).\n",
        "    \"\"\"\n",
        "\n",
        "    x = batch\n",
        "\n",
        "    x = self.conv1(x)\n",
        "    x = self.bn1(x)\n",
        "\n",
        "    x = self.conv2(x)\n",
        "    x = self.bn2(x)\n",
        "\n",
        "    x = self.conv3(x)\n",
        "    x = self.bn3(x)\n",
        "\n",
        "    x, hidden = self.convLSTM(x, hidden)\n",
        "\n",
        "    x = nn.classify(hidden)\n",
        "    #x = nn.classify(x[:,-1,:])\n",
        "\n",
        "    return \n",
        "\n",
        "  def inference(self):\n",
        "\n",
        "  def loss(self):\n",
        "\n",
        "  # Saves the current model\n",
        "  def save_model(self, file_path, num_to_keep=1):\n",
        "    pt_util.save(self, file_path, num_to_keep)\n",
        "\n",
        "  # Saves the best model so far\n",
        "  def save_best_model(self, accuracy, file_path, num_to_keep=1):\n",
        "    if accuracy > self.best_accuracy:\n",
        "      self.save_model(file_path, num_to_keep)\n",
        "      self.best_accuracy = accuracy\n",
        "\n",
        "  def load_model(self, file_path):\n",
        "    pt_util.restore(self, file_path)\n",
        "\n",
        "  def load_last_model(self, dir_path):\n",
        "    return pt_util.restore_latest(self, dir_path)"
      ],
      "execution_count": null,
      "outputs": []
    },
    {
      "cell_type": "markdown",
      "metadata": {
        "id": "48-1zP5z7fw_"
      },
      "source": [
        "## Training"
      ]
    },
    {
      "cell_type": "code",
      "metadata": {
        "id": "0hZO07M27m1O"
      },
      "source": [
        "model = ConvLSTMNet(inputChannels=1, featureSize=8)"
      ],
      "execution_count": null,
      "outputs": []
    },
    {
      "cell_type": "code",
      "metadata": {
        "id": "miqxkrkQ7hHC"
      },
      "source": [
        "import tqdm\n",
        "def repackage_hidden(h):\n",
        "    \"\"\"Wraps hidden states in new Tensors, to detach them from their history.\"\"\"\n",
        "    if isinstance(h, torch.Tensor):\n",
        "        return h.detach()\n",
        "    else:\n",
        "        return tuple(repackage_hidden(v) for v in h)\n",
        "\n",
        "\n",
        "def train(model, device, optimizer, trainloader, valloader, lr, epoch, log_interval):\n",
        "    model.train()\n",
        "    losses = []\n",
        "    valLosses = []\n",
        "    hidden = None\n",
        "\n",
        "    for i, data in enumerate(trainloader, 0):\n",
        "        #Inputs are first 7 cells in a tower, outputs are last 7 cells in a tower \n",
        "        inputs = torch.stack([x[0:7,:,:] for x in data])\n",
        "        outputs = torch.stack([x[1:8,:,:] for x in data])\n",
        "        inputs = inputs.to(device)\n",
        "        outputs = outputs.to(device)\n",
        "\n",
        "        # Separates the hidden state across batches. \n",
        "        # Otherwise the backward would try to go all the way to the beginning every time.\n",
        "        if hidden is not None:\n",
        "            hidden = repackage_hidden(hidden)\n",
        "        optimizer.zero_grad()\n",
        "        preds, hidden = model(inputs)\n",
        "        #pred = output.max(-1)[1]\n",
        "        loss = model.loss(preds, outputs)\n",
        "        losses.append(loss.item())\n",
        "        loss.backward()\n",
        "        optimizer.step()\n",
        "        if i % log_interval == 0:\n",
        "            print('Train Epoch: {} [{}/{} ({:.0f}%)]\\tLoss: {:.6f}'.format(\n",
        "                epoch, i * len(data), len(trainloader.dataset),\n",
        "                100. * i / len(trainloader), loss.item()))    \n",
        "\n",
        "    #Validation       \n",
        "    for i, data in enumerate(valloader, 0):\n",
        "        inputs = torch.stack([x[0:7,:,:] for x in data])\n",
        "        outputs = torch.stack([x[1:8,:,:] for x in data])\n",
        "        inputs = inputs.to(device)\n",
        "        outputs = outputs.to(device)\n",
        "\n",
        "        if hidden is not None:\n",
        "          hidden = repackage_hidden(hidden)\n",
        "\n",
        "        preds, hidden = model(inputs)\n",
        "        #pred = output.max(-1)[1]\n",
        "        loss = model.loss(preds, outputs)\n",
        "        valLosses.append(loss.item())\n",
        "        if i % log_interval == 0:\n",
        "              print('Train Epoch: {} [{}/{} ({:.0f}%)]\\tVal Loss: {:.6f}'.format(\n",
        "                  epoch, i * len(data), len(valloader.dataset),\n",
        "                  100. * i / len(valloader), loss.item()))\n",
        "    return np.mean(losses), np.mean(valLosses)\n",
        "\n",
        "\n",
        "def test(model, device, test_loader):\n",
        "    model.eval()\n",
        "    test_loss = 0\n",
        "    correct = 0 \n",
        "\n",
        "    with torch.no_grad():\n",
        "        hidden = None\n",
        "        for i, data in enumerate(testloader, 0):\n",
        "            inputs = torch.stack([x[0:7,:,:] for x in data])\n",
        "            outputs = torch.stack([x[1:8,:,:] for x in data])\n",
        "            inputs = inputs.to(device)\n",
        "            outputs = outputs.to(device)\n",
        "\n",
        "            preds, hidden = model(inputs, hidden)\n",
        "            test_loss += model.loss(preds, outputs, reduction='mean').item()\n",
        "            #pred = output.max(-1)[1]\n",
        "            correct_mask = preds.eq(label.view_as(preds))\n",
        "            num_correct = correct_mask.sum().item()\n",
        "            correct += num_correct\n",
        "\n",
        "    test_loss /= len(testloader)\n",
        "\n",
        "    '''\n",
        "    test_accuracy = 100. * correct / (len(testloader.dataset) * testloader.dataset.sequence_length)\n",
        "\n",
        "    print('\\nTest set: Average loss: {:.4f}, Accuracy: {}/{} ({:.0f}%)\\n'.format(\n",
        "        test_loss, correct, len(test_loader.dataset) * test_loader.dataset.sequence_length,\n",
        "        100. * correct / (len(test_loader.dataset) * test_loader.dataset.sequence_length)))\n",
        "        '''\n",
        "        #, test_accuracy\n",
        "    return test_loss"
      ],
      "execution_count": null,
      "outputs": []
    },
    {
      "cell_type": "code",
      "metadata": {
        "id": "L8cfWhfdBD2k"
      },
      "source": [
        "def main(BATCH_SIZE = 256, FEATURE_SIZE = 64, TEST_BATCH_SIZE = 256, EPOCHS = 2, LEARNING_RATE = 0.002, WEIGHT_DECAY = 0.0005, EXP_VER = '1'):\n",
        "  \n",
        "    PRINT_INTERVAL = 10\n",
        "    USE_CUDA = True\n",
        "    LOG_PATH = root + EXP_VER + 'logs/log.pkl'\n",
        "\n",
        "    data_train = trainset\n",
        "    data_val = valset\n",
        "    data_test = testset\n",
        "\n",
        "    use_cuda = USE_CUDA and torch.cuda.is_available()\n",
        "\n",
        "    device = torch.device(\"cuda\" if use_cuda else \"cpu\")\n",
        "    print('Using device', device)\n",
        "    import multiprocessing\n",
        "    num_workers = multiprocessing.cpu_count()\n",
        "    print('num workers:', num_workers)\n",
        "\n",
        "    kwargs = {'num_workers': num_workers,\n",
        "              'pin_memory': True} if use_cuda else {}\n",
        "\n",
        "\n",
        "    trainloader = torch.utils.data.DataLoader(trainset, batch_size=BATCH_SIZE,\n",
        "                                              shuffle=True)\n",
        "    valloader = torch.utils.data.DataLoader(valset, batch_size=BATCH_SIZE, \n",
        "                                            shuffle=True)\n",
        "    testloader = torch.utils.data.DataLoader(testset, batch_size=BATCH_SIZE,\n",
        "                                             shuffle=False)\n",
        "    '''\n",
        "    train_loader = torch.utils.data.DataLoader(data_train, batch_size=BATCH_SIZE,\n",
        "                                              shuffle=False, **kwargs)\n",
        "    val_loader = torch.utils.data.DataLoader(data_val, batch_size=BATCH_SIZE,\n",
        "                                            shuffle=False, **kwargs)\n",
        "    test_loader = torch.utils.data.DataLoader(data_test, batch_size=TEST_BATCH_SIZE,\n",
        "                                              shuffle=False, **kwargs)\n",
        "    '''\n",
        "    #May need to change some of these parameters? \n",
        "    model = ConvLSTMNet(inputChannels=1, featureSize=FEATURE_SIZE).to(device)\n",
        "    optimizer = torch.optim.Adam(model.parameters(), lr=LEARNING_RATE, weight_decay=WEIGHT_DECAY)\n",
        "\n",
        "    start_epoch = 0\n",
        "\n",
        "    #train_losses, val_losses, test_losses, test_accuracies = pt_util.read_log(LOG_PATH, ([], [], [], []))\n",
        "    test_loss, test_accuracy = test(model, device, testloader)\n",
        "\n",
        "    test_losses.append((start_epoch, test_loss))\n",
        "    test_accuracies.append((start_epoch, test_accuracy))\n",
        "\n",
        "    try:\n",
        "      for epoch in range(start_epoch, EPOCHS + 1):\n",
        "        lr = LEARNING_RATE * np.power(0.25, (int(epoch / 6)))\n",
        "        train_loss, val_loss = train(model, device, optimizer, trainloader, lr, epoch, PRINT_INTERVAL)\n",
        "        test_loss, test_accuracy = test(model, device, testloader)\n",
        "\n",
        "        train_losses.append((epoch, train_loss))\n",
        "        val_losses.append((epoch, val_loss))\n",
        "        print(train_losses)\n",
        "        print(val_losses)\n",
        "        test_losses.append((epoch, test_loss))\n",
        "        test_accuracies.append((epoch, test_accuracy))\n",
        "        #pt_util.write_log(LOG_PATH, (train_losses, val_losses, test_losses, test_accuracies))\n",
        "        model.save_best_model(test_accuracy, DATA_PATH + 'checkpoints/%03d.pt' % epoch)\n",
        "\n",
        "    except KeyboardInterrupt as ke:\n",
        "      print('Interrupted')\n",
        "    except:\n",
        "      import traceback\n",
        "      traceback.print_exc()\n",
        "    finally:\n",
        "      print('Saving final model')\n",
        "      model.save_model(DATA_PATH + 'checkpoints/%03d.pt' % epoch, 0)\n",
        "\n",
        "      #ep, val = zip(*train_losses)\n",
        "      #pt_util.plot(ep, val, 'Train loss', 'Epoch', 'Error')\n",
        "\n",
        "      #ep, val = zip(*val_losses)\n",
        "      #pt_util.plot(ep, val, 'Validation loss', 'Epoch', 'Error')\n",
        "\n",
        "      #ep, val = zip(*test_losses)\n",
        "      #pt_util.plot(ep, val, 'Test loss', 'Epoch', 'Error')\n",
        "\n",
        "      #ep, val = zip(*test_accuracies)\n",
        "      #pt_util.plot(ep, val, 'Test accuracy', 'Epoch', 'Percent correct')\n",
        "      return model, device\n"
      ],
      "execution_count": null,
      "outputs": []
    },
    {
      "cell_type": "code",
      "metadata": {
        "colab": {
          "base_uri": "https://localhost:8080/",
          "height": 630
        },
        "id": "6vVmqVuGuROm",
        "outputId": "6a54c48e-38b7-473e-e9ea-365819d343cc"
      },
      "source": [
        "model, device = main(BATCH_SIZE = 1, FEATURE_SIZE = 3, TEST_BATCH_SIZE = 1, EPOCHS = 2, LEARNING_RATE = 0.002, WEIGHT_DECAY = 0.0005, EXP_VER = '1')"
      ],
      "execution_count": null,
      "outputs": [
        {
          "output_type": "stream",
          "text": [
            "Using device cpu\n",
            "num workers: 2\n"
          ],
          "name": "stdout"
        },
        {
          "output_type": "error",
          "ename": "TypeError",
          "evalue": "ignored",
          "traceback": [
            "\u001b[0;31m---------------------------------------------------------------------------\u001b[0m",
            "\u001b[0;31mTypeError\u001b[0m                                 Traceback (most recent call last)",
            "\u001b[0;32m<ipython-input-45-81e407fd9661>\u001b[0m in \u001b[0;36m<module>\u001b[0;34m()\u001b[0m\n\u001b[0;32m----> 1\u001b[0;31m \u001b[0mmodel\u001b[0m\u001b[0;34m,\u001b[0m \u001b[0mdevice\u001b[0m \u001b[0;34m=\u001b[0m \u001b[0mmain\u001b[0m\u001b[0;34m(\u001b[0m\u001b[0mBATCH_SIZE\u001b[0m \u001b[0;34m=\u001b[0m \u001b[0;36m1\u001b[0m\u001b[0;34m,\u001b[0m \u001b[0mFEATURE_SIZE\u001b[0m \u001b[0;34m=\u001b[0m \u001b[0;36m3\u001b[0m\u001b[0;34m,\u001b[0m \u001b[0mTEST_BATCH_SIZE\u001b[0m \u001b[0;34m=\u001b[0m \u001b[0;36m1\u001b[0m\u001b[0;34m,\u001b[0m \u001b[0mEPOCHS\u001b[0m \u001b[0;34m=\u001b[0m \u001b[0;36m2\u001b[0m\u001b[0;34m,\u001b[0m \u001b[0mLEARNING_RATE\u001b[0m \u001b[0;34m=\u001b[0m \u001b[0;36m0.002\u001b[0m\u001b[0;34m,\u001b[0m \u001b[0mWEIGHT_DECAY\u001b[0m \u001b[0;34m=\u001b[0m \u001b[0;36m0.0005\u001b[0m\u001b[0;34m,\u001b[0m \u001b[0mEXP_VER\u001b[0m \u001b[0;34m=\u001b[0m \u001b[0;34m'1'\u001b[0m\u001b[0;34m)\u001b[0m\u001b[0;34m\u001b[0m\u001b[0;34m\u001b[0m\u001b[0m\n\u001b[0m",
            "\u001b[0;32m<ipython-input-44-f629aceb1b8e>\u001b[0m in \u001b[0;36mmain\u001b[0;34m(BATCH_SIZE, FEATURE_SIZE, TEST_BATCH_SIZE, EPOCHS, LEARNING_RATE, WEIGHT_DECAY, EXP_VER)\u001b[0m\n\u001b[1;32m     42\u001b[0m \u001b[0;34m\u001b[0m\u001b[0m\n\u001b[1;32m     43\u001b[0m     \u001b[0;31m#train_losses, val_losses, test_losses, test_accuracies = pt_util.read_log(LOG_PATH, ([], [], [], []))\u001b[0m\u001b[0;34m\u001b[0m\u001b[0;34m\u001b[0m\u001b[0;34m\u001b[0m\u001b[0m\n\u001b[0;32m---> 44\u001b[0;31m     \u001b[0mtest_loss\u001b[0m\u001b[0;34m,\u001b[0m \u001b[0mtest_accuracy\u001b[0m \u001b[0;34m=\u001b[0m \u001b[0mtest\u001b[0m\u001b[0;34m(\u001b[0m\u001b[0mmodel\u001b[0m\u001b[0;34m,\u001b[0m \u001b[0mdevice\u001b[0m\u001b[0;34m,\u001b[0m \u001b[0mtestloader\u001b[0m\u001b[0;34m)\u001b[0m\u001b[0;34m\u001b[0m\u001b[0;34m\u001b[0m\u001b[0m\n\u001b[0m\u001b[1;32m     45\u001b[0m \u001b[0;34m\u001b[0m\u001b[0m\n\u001b[1;32m     46\u001b[0m     \u001b[0mtest_losses\u001b[0m\u001b[0;34m.\u001b[0m\u001b[0mappend\u001b[0m\u001b[0;34m(\u001b[0m\u001b[0;34m(\u001b[0m\u001b[0mstart_epoch\u001b[0m\u001b[0;34m,\u001b[0m \u001b[0mtest_loss\u001b[0m\u001b[0;34m)\u001b[0m\u001b[0;34m)\u001b[0m\u001b[0;34m\u001b[0m\u001b[0;34m\u001b[0m\u001b[0m\n",
            "\u001b[0;32m<ipython-input-43-7ac778b2a8e4>\u001b[0m in \u001b[0;36mtest\u001b[0;34m(model, device, test_loader)\u001b[0m\n\u001b[1;32m     71\u001b[0m             \u001b[0moutputs\u001b[0m \u001b[0;34m=\u001b[0m \u001b[0moutputs\u001b[0m\u001b[0;34m.\u001b[0m\u001b[0mto\u001b[0m\u001b[0;34m(\u001b[0m\u001b[0mdevice\u001b[0m\u001b[0;34m)\u001b[0m\u001b[0;34m\u001b[0m\u001b[0;34m\u001b[0m\u001b[0m\n\u001b[1;32m     72\u001b[0m \u001b[0;34m\u001b[0m\u001b[0m\n\u001b[0;32m---> 73\u001b[0;31m             \u001b[0mpreds\u001b[0m\u001b[0;34m,\u001b[0m \u001b[0mhidden\u001b[0m \u001b[0;34m=\u001b[0m \u001b[0mmodel\u001b[0m\u001b[0;34m(\u001b[0m\u001b[0minputs\u001b[0m\u001b[0;34m,\u001b[0m \u001b[0mhidden\u001b[0m\u001b[0;34m)\u001b[0m\u001b[0;34m\u001b[0m\u001b[0;34m\u001b[0m\u001b[0m\n\u001b[0m\u001b[1;32m     74\u001b[0m             \u001b[0mtest_loss\u001b[0m \u001b[0;34m+=\u001b[0m \u001b[0mmodel\u001b[0m\u001b[0;34m.\u001b[0m\u001b[0mloss\u001b[0m\u001b[0;34m(\u001b[0m\u001b[0mpreds\u001b[0m\u001b[0;34m,\u001b[0m \u001b[0moutputs\u001b[0m\u001b[0;34m,\u001b[0m \u001b[0mreduction\u001b[0m\u001b[0;34m=\u001b[0m\u001b[0;34m'mean'\u001b[0m\u001b[0;34m)\u001b[0m\u001b[0;34m.\u001b[0m\u001b[0mitem\u001b[0m\u001b[0;34m(\u001b[0m\u001b[0;34m)\u001b[0m\u001b[0;34m\u001b[0m\u001b[0;34m\u001b[0m\u001b[0m\n\u001b[1;32m     75\u001b[0m             \u001b[0;31m#pred = output.max(-1)[1]\u001b[0m\u001b[0;34m\u001b[0m\u001b[0;34m\u001b[0m\u001b[0;34m\u001b[0m\u001b[0m\n",
            "\u001b[0;32m/usr/local/lib/python3.6/dist-packages/torch/nn/modules/module.py\u001b[0m in \u001b[0;36m_call_impl\u001b[0;34m(self, *input, **kwargs)\u001b[0m\n\u001b[1;32m    725\u001b[0m             \u001b[0mresult\u001b[0m \u001b[0;34m=\u001b[0m \u001b[0mself\u001b[0m\u001b[0;34m.\u001b[0m\u001b[0m_slow_forward\u001b[0m\u001b[0;34m(\u001b[0m\u001b[0;34m*\u001b[0m\u001b[0minput\u001b[0m\u001b[0;34m,\u001b[0m \u001b[0;34m**\u001b[0m\u001b[0mkwargs\u001b[0m\u001b[0;34m)\u001b[0m\u001b[0;34m\u001b[0m\u001b[0;34m\u001b[0m\u001b[0m\n\u001b[1;32m    726\u001b[0m         \u001b[0;32melse\u001b[0m\u001b[0;34m:\u001b[0m\u001b[0;34m\u001b[0m\u001b[0;34m\u001b[0m\u001b[0m\n\u001b[0;32m--> 727\u001b[0;31m             \u001b[0mresult\u001b[0m \u001b[0;34m=\u001b[0m \u001b[0mself\u001b[0m\u001b[0;34m.\u001b[0m\u001b[0mforward\u001b[0m\u001b[0;34m(\u001b[0m\u001b[0;34m*\u001b[0m\u001b[0minput\u001b[0m\u001b[0;34m,\u001b[0m \u001b[0;34m**\u001b[0m\u001b[0mkwargs\u001b[0m\u001b[0;34m)\u001b[0m\u001b[0;34m\u001b[0m\u001b[0;34m\u001b[0m\u001b[0m\n\u001b[0m\u001b[1;32m    728\u001b[0m         for hook in itertools.chain(\n\u001b[1;32m    729\u001b[0m                 \u001b[0m_global_forward_hooks\u001b[0m\u001b[0;34m.\u001b[0m\u001b[0mvalues\u001b[0m\u001b[0;34m(\u001b[0m\u001b[0;34m)\u001b[0m\u001b[0;34m,\u001b[0m\u001b[0;34m\u001b[0m\u001b[0;34m\u001b[0m\u001b[0m\n",
            "\u001b[0;31mTypeError\u001b[0m: forward() takes from 1 to 2 positional arguments but 3 were given"
          ]
        }
      ]
    },
    {
      "cell_type": "code",
      "metadata": {
        "id": "uwho5WpGvL-w"
      },
      "source": [
        ""
      ],
      "execution_count": null,
      "outputs": []
    }
  ]
}